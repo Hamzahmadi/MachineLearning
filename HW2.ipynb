{
  "cells": [
    {
      "cell_type": "markdown",
      "metadata": {
        "id": "view-in-github",
        "colab_type": "text"
      },
      "source": [
        "<a href=\"https://colab.research.google.com/github/Hamzahmadi/MachineLearning/blob/main/HW2.ipynb\" target=\"_parent\"><img src=\"https://colab.research.google.com/assets/colab-badge.svg\" alt=\"Open In Colab\"/></a>"
      ]
    },
    {
      "cell_type": "code",
      "execution_count": 2,
      "metadata": {
        "colab": {
          "base_uri": "https://localhost:8080/"
        },
        "id": "5vQrXqlh5ZQv",
        "outputId": "c131cd94-9bd6-4621-b607-a85f7ed48aa4"
      },
      "outputs": [
        {
          "output_type": "stream",
          "name": "stdout",
          "text": [
            "Mounted at /content/drive\n"
          ]
        }
      ],
      "source": [
        "import numpy as np\n",
        "import pandas as pd\n",
        "import matplotlib.pyplot as plt\n",
        "import seaborn as sns\n",
        "from google.colab import drive\n",
        "drive.mount('/content/drive')"
      ]
    },
    {
      "cell_type": "code",
      "execution_count": 3,
      "metadata": {
        "colab": {
          "base_uri": "https://localhost:8080/",
          "height": 206
        },
        "id": "UZR0OrY55hdE",
        "outputId": "476fec4a-39c4-47c7-f0f3-df029c23a932"
      },
      "outputs": [
        {
          "output_type": "execute_result",
          "data": {
            "text/plain": [
              "      price  area  bedrooms  bathrooms  stories mainroad guestroom basement  \\\n",
              "0  13300000  7420         4          2        3      yes        no       no   \n",
              "1  12250000  8960         4          4        4      yes        no       no   \n",
              "2  12250000  9960         3          2        2      yes        no      yes   \n",
              "3  12215000  7500         4          2        2      yes        no      yes   \n",
              "4  11410000  7420         4          1        2      yes       yes      yes   \n",
              "\n",
              "  hotwaterheating airconditioning  parking prefarea furnishingstatus  \n",
              "0              no             yes        2      yes        furnished  \n",
              "1              no             yes        3       no        furnished  \n",
              "2              no              no        2      yes   semi-furnished  \n",
              "3              no             yes        3      yes        furnished  \n",
              "4              no             yes        2       no        furnished  "
            ],
            "text/html": [
              "\n",
              "  <div id=\"df-5ac08650-d724-4a3b-be27-031f8e26822d\" class=\"colab-df-container\">\n",
              "    <div>\n",
              "<style scoped>\n",
              "    .dataframe tbody tr th:only-of-type {\n",
              "        vertical-align: middle;\n",
              "    }\n",
              "\n",
              "    .dataframe tbody tr th {\n",
              "        vertical-align: top;\n",
              "    }\n",
              "\n",
              "    .dataframe thead th {\n",
              "        text-align: right;\n",
              "    }\n",
              "</style>\n",
              "<table border=\"1\" class=\"dataframe\">\n",
              "  <thead>\n",
              "    <tr style=\"text-align: right;\">\n",
              "      <th></th>\n",
              "      <th>price</th>\n",
              "      <th>area</th>\n",
              "      <th>bedrooms</th>\n",
              "      <th>bathrooms</th>\n",
              "      <th>stories</th>\n",
              "      <th>mainroad</th>\n",
              "      <th>guestroom</th>\n",
              "      <th>basement</th>\n",
              "      <th>hotwaterheating</th>\n",
              "      <th>airconditioning</th>\n",
              "      <th>parking</th>\n",
              "      <th>prefarea</th>\n",
              "      <th>furnishingstatus</th>\n",
              "    </tr>\n",
              "  </thead>\n",
              "  <tbody>\n",
              "    <tr>\n",
              "      <th>0</th>\n",
              "      <td>13300000</td>\n",
              "      <td>7420</td>\n",
              "      <td>4</td>\n",
              "      <td>2</td>\n",
              "      <td>3</td>\n",
              "      <td>yes</td>\n",
              "      <td>no</td>\n",
              "      <td>no</td>\n",
              "      <td>no</td>\n",
              "      <td>yes</td>\n",
              "      <td>2</td>\n",
              "      <td>yes</td>\n",
              "      <td>furnished</td>\n",
              "    </tr>\n",
              "    <tr>\n",
              "      <th>1</th>\n",
              "      <td>12250000</td>\n",
              "      <td>8960</td>\n",
              "      <td>4</td>\n",
              "      <td>4</td>\n",
              "      <td>4</td>\n",
              "      <td>yes</td>\n",
              "      <td>no</td>\n",
              "      <td>no</td>\n",
              "      <td>no</td>\n",
              "      <td>yes</td>\n",
              "      <td>3</td>\n",
              "      <td>no</td>\n",
              "      <td>furnished</td>\n",
              "    </tr>\n",
              "    <tr>\n",
              "      <th>2</th>\n",
              "      <td>12250000</td>\n",
              "      <td>9960</td>\n",
              "      <td>3</td>\n",
              "      <td>2</td>\n",
              "      <td>2</td>\n",
              "      <td>yes</td>\n",
              "      <td>no</td>\n",
              "      <td>yes</td>\n",
              "      <td>no</td>\n",
              "      <td>no</td>\n",
              "      <td>2</td>\n",
              "      <td>yes</td>\n",
              "      <td>semi-furnished</td>\n",
              "    </tr>\n",
              "    <tr>\n",
              "      <th>3</th>\n",
              "      <td>12215000</td>\n",
              "      <td>7500</td>\n",
              "      <td>4</td>\n",
              "      <td>2</td>\n",
              "      <td>2</td>\n",
              "      <td>yes</td>\n",
              "      <td>no</td>\n",
              "      <td>yes</td>\n",
              "      <td>no</td>\n",
              "      <td>yes</td>\n",
              "      <td>3</td>\n",
              "      <td>yes</td>\n",
              "      <td>furnished</td>\n",
              "    </tr>\n",
              "    <tr>\n",
              "      <th>4</th>\n",
              "      <td>11410000</td>\n",
              "      <td>7420</td>\n",
              "      <td>4</td>\n",
              "      <td>1</td>\n",
              "      <td>2</td>\n",
              "      <td>yes</td>\n",
              "      <td>yes</td>\n",
              "      <td>yes</td>\n",
              "      <td>no</td>\n",
              "      <td>yes</td>\n",
              "      <td>2</td>\n",
              "      <td>no</td>\n",
              "      <td>furnished</td>\n",
              "    </tr>\n",
              "  </tbody>\n",
              "</table>\n",
              "</div>\n",
              "    <div class=\"colab-df-buttons\">\n",
              "\n",
              "  <div class=\"colab-df-container\">\n",
              "    <button class=\"colab-df-convert\" onclick=\"convertToInteractive('df-5ac08650-d724-4a3b-be27-031f8e26822d')\"\n",
              "            title=\"Convert this dataframe to an interactive table.\"\n",
              "            style=\"display:none;\">\n",
              "\n",
              "  <svg xmlns=\"http://www.w3.org/2000/svg\" height=\"24px\" viewBox=\"0 -960 960 960\">\n",
              "    <path d=\"M120-120v-720h720v720H120Zm60-500h600v-160H180v160Zm220 220h160v-160H400v160Zm0 220h160v-160H400v160ZM180-400h160v-160H180v160Zm440 0h160v-160H620v160ZM180-180h160v-160H180v160Zm440 0h160v-160H620v160Z\"/>\n",
              "  </svg>\n",
              "    </button>\n",
              "\n",
              "  <style>\n",
              "    .colab-df-container {\n",
              "      display:flex;\n",
              "      gap: 12px;\n",
              "    }\n",
              "\n",
              "    .colab-df-convert {\n",
              "      background-color: #E8F0FE;\n",
              "      border: none;\n",
              "      border-radius: 50%;\n",
              "      cursor: pointer;\n",
              "      display: none;\n",
              "      fill: #1967D2;\n",
              "      height: 32px;\n",
              "      padding: 0 0 0 0;\n",
              "      width: 32px;\n",
              "    }\n",
              "\n",
              "    .colab-df-convert:hover {\n",
              "      background-color: #E2EBFA;\n",
              "      box-shadow: 0px 1px 2px rgba(60, 64, 67, 0.3), 0px 1px 3px 1px rgba(60, 64, 67, 0.15);\n",
              "      fill: #174EA6;\n",
              "    }\n",
              "\n",
              "    .colab-df-buttons div {\n",
              "      margin-bottom: 4px;\n",
              "    }\n",
              "\n",
              "    [theme=dark] .colab-df-convert {\n",
              "      background-color: #3B4455;\n",
              "      fill: #D2E3FC;\n",
              "    }\n",
              "\n",
              "    [theme=dark] .colab-df-convert:hover {\n",
              "      background-color: #434B5C;\n",
              "      box-shadow: 0px 1px 3px 1px rgba(0, 0, 0, 0.15);\n",
              "      filter: drop-shadow(0px 1px 2px rgba(0, 0, 0, 0.3));\n",
              "      fill: #FFFFFF;\n",
              "    }\n",
              "  </style>\n",
              "\n",
              "    <script>\n",
              "      const buttonEl =\n",
              "        document.querySelector('#df-5ac08650-d724-4a3b-be27-031f8e26822d button.colab-df-convert');\n",
              "      buttonEl.style.display =\n",
              "        google.colab.kernel.accessAllowed ? 'block' : 'none';\n",
              "\n",
              "      async function convertToInteractive(key) {\n",
              "        const element = document.querySelector('#df-5ac08650-d724-4a3b-be27-031f8e26822d');\n",
              "        const dataTable =\n",
              "          await google.colab.kernel.invokeFunction('convertToInteractive',\n",
              "                                                    [key], {});\n",
              "        if (!dataTable) return;\n",
              "\n",
              "        const docLinkHtml = 'Like what you see? Visit the ' +\n",
              "          '<a target=\"_blank\" href=https://colab.research.google.com/notebooks/data_table.ipynb>data table notebook</a>'\n",
              "          + ' to learn more about interactive tables.';\n",
              "        element.innerHTML = '';\n",
              "        dataTable['output_type'] = 'display_data';\n",
              "        await google.colab.output.renderOutput(dataTable, element);\n",
              "        const docLink = document.createElement('div');\n",
              "        docLink.innerHTML = docLinkHtml;\n",
              "        element.appendChild(docLink);\n",
              "      }\n",
              "    </script>\n",
              "  </div>\n",
              "\n",
              "\n",
              "<div id=\"df-fbf98145-5e36-4272-9b24-48aecade1379\">\n",
              "  <button class=\"colab-df-quickchart\" onclick=\"quickchart('df-fbf98145-5e36-4272-9b24-48aecade1379')\"\n",
              "            title=\"Suggest charts.\"\n",
              "            style=\"display:none;\">\n",
              "\n",
              "<svg xmlns=\"http://www.w3.org/2000/svg\" height=\"24px\"viewBox=\"0 0 24 24\"\n",
              "     width=\"24px\">\n",
              "    <g>\n",
              "        <path d=\"M19 3H5c-1.1 0-2 .9-2 2v14c0 1.1.9 2 2 2h14c1.1 0 2-.9 2-2V5c0-1.1-.9-2-2-2zM9 17H7v-7h2v7zm4 0h-2V7h2v10zm4 0h-2v-4h2v4z\"/>\n",
              "    </g>\n",
              "</svg>\n",
              "  </button>\n",
              "\n",
              "<style>\n",
              "  .colab-df-quickchart {\n",
              "      --bg-color: #E8F0FE;\n",
              "      --fill-color: #1967D2;\n",
              "      --hover-bg-color: #E2EBFA;\n",
              "      --hover-fill-color: #174EA6;\n",
              "      --disabled-fill-color: #AAA;\n",
              "      --disabled-bg-color: #DDD;\n",
              "  }\n",
              "\n",
              "  [theme=dark] .colab-df-quickchart {\n",
              "      --bg-color: #3B4455;\n",
              "      --fill-color: #D2E3FC;\n",
              "      --hover-bg-color: #434B5C;\n",
              "      --hover-fill-color: #FFFFFF;\n",
              "      --disabled-bg-color: #3B4455;\n",
              "      --disabled-fill-color: #666;\n",
              "  }\n",
              "\n",
              "  .colab-df-quickchart {\n",
              "    background-color: var(--bg-color);\n",
              "    border: none;\n",
              "    border-radius: 50%;\n",
              "    cursor: pointer;\n",
              "    display: none;\n",
              "    fill: var(--fill-color);\n",
              "    height: 32px;\n",
              "    padding: 0;\n",
              "    width: 32px;\n",
              "  }\n",
              "\n",
              "  .colab-df-quickchart:hover {\n",
              "    background-color: var(--hover-bg-color);\n",
              "    box-shadow: 0 1px 2px rgba(60, 64, 67, 0.3), 0 1px 3px 1px rgba(60, 64, 67, 0.15);\n",
              "    fill: var(--button-hover-fill-color);\n",
              "  }\n",
              "\n",
              "  .colab-df-quickchart-complete:disabled,\n",
              "  .colab-df-quickchart-complete:disabled:hover {\n",
              "    background-color: var(--disabled-bg-color);\n",
              "    fill: var(--disabled-fill-color);\n",
              "    box-shadow: none;\n",
              "  }\n",
              "\n",
              "  .colab-df-spinner {\n",
              "    border: 2px solid var(--fill-color);\n",
              "    border-color: transparent;\n",
              "    border-bottom-color: var(--fill-color);\n",
              "    animation:\n",
              "      spin 1s steps(1) infinite;\n",
              "  }\n",
              "\n",
              "  @keyframes spin {\n",
              "    0% {\n",
              "      border-color: transparent;\n",
              "      border-bottom-color: var(--fill-color);\n",
              "      border-left-color: var(--fill-color);\n",
              "    }\n",
              "    20% {\n",
              "      border-color: transparent;\n",
              "      border-left-color: var(--fill-color);\n",
              "      border-top-color: var(--fill-color);\n",
              "    }\n",
              "    30% {\n",
              "      border-color: transparent;\n",
              "      border-left-color: var(--fill-color);\n",
              "      border-top-color: var(--fill-color);\n",
              "      border-right-color: var(--fill-color);\n",
              "    }\n",
              "    40% {\n",
              "      border-color: transparent;\n",
              "      border-right-color: var(--fill-color);\n",
              "      border-top-color: var(--fill-color);\n",
              "    }\n",
              "    60% {\n",
              "      border-color: transparent;\n",
              "      border-right-color: var(--fill-color);\n",
              "    }\n",
              "    80% {\n",
              "      border-color: transparent;\n",
              "      border-right-color: var(--fill-color);\n",
              "      border-bottom-color: var(--fill-color);\n",
              "    }\n",
              "    90% {\n",
              "      border-color: transparent;\n",
              "      border-bottom-color: var(--fill-color);\n",
              "    }\n",
              "  }\n",
              "</style>\n",
              "\n",
              "  <script>\n",
              "    async function quickchart(key) {\n",
              "      const quickchartButtonEl =\n",
              "        document.querySelector('#' + key + ' button');\n",
              "      quickchartButtonEl.disabled = true;  // To prevent multiple clicks.\n",
              "      quickchartButtonEl.classList.add('colab-df-spinner');\n",
              "      try {\n",
              "        const charts = await google.colab.kernel.invokeFunction(\n",
              "            'suggestCharts', [key], {});\n",
              "      } catch (error) {\n",
              "        console.error('Error during call to suggestCharts:', error);\n",
              "      }\n",
              "      quickchartButtonEl.classList.remove('colab-df-spinner');\n",
              "      quickchartButtonEl.classList.add('colab-df-quickchart-complete');\n",
              "    }\n",
              "    (() => {\n",
              "      let quickchartButtonEl =\n",
              "        document.querySelector('#df-fbf98145-5e36-4272-9b24-48aecade1379 button');\n",
              "      quickchartButtonEl.style.display =\n",
              "        google.colab.kernel.accessAllowed ? 'block' : 'none';\n",
              "    })();\n",
              "  </script>\n",
              "</div>\n",
              "    </div>\n",
              "  </div>\n"
            ]
          },
          "metadata": {},
          "execution_count": 3
        }
      ],
      "source": [
        "file_path = '/content/drive/My Drive/Courses/Intro-to-ML/Datasets/Housing.csv'\n",
        "housing = pd.DataFrame(pd.read_csv(file_path))\n",
        "housing.head()"
      ]
    },
    {
      "cell_type": "markdown",
      "metadata": {
        "id": "LSVVRupSEY2T"
      },
      "source": [
        "Problem 1A"
      ]
    },
    {
      "cell_type": "code",
      "execution_count": 4,
      "metadata": {
        "colab": {
          "base_uri": "https://localhost:8080/",
          "height": 206
        },
        "id": "trL6HjED5k0x",
        "outputId": "fa196c8a-373f-40f6-a879-d3eebf3cb7c0"
      },
      "outputs": [
        {
          "output_type": "execute_result",
          "data": {
            "text/plain": [
              "      price  area  bedrooms  bathrooms  stories  mainroad  guestroom  \\\n",
              "0  13300000  7420         4          2        3         1          0   \n",
              "1  12250000  8960         4          4        4         1          0   \n",
              "2  12250000  9960         3          2        2         1          0   \n",
              "3  12215000  7500         4          2        2         1          0   \n",
              "4  11410000  7420         4          1        2         1          1   \n",
              "\n",
              "   basement  hotwaterheating  airconditioning  parking  prefarea  \\\n",
              "0         0                0                1        2         1   \n",
              "1         0                0                1        3         0   \n",
              "2         1                0                0        2         1   \n",
              "3         1                0                1        3         1   \n",
              "4         1                0                1        2         0   \n",
              "\n",
              "  furnishingstatus  \n",
              "0        furnished  \n",
              "1        furnished  \n",
              "2   semi-furnished  \n",
              "3        furnished  \n",
              "4        furnished  "
            ],
            "text/html": [
              "\n",
              "  <div id=\"df-095a4bf4-cd29-43f2-9583-0b3a3ed65c54\" class=\"colab-df-container\">\n",
              "    <div>\n",
              "<style scoped>\n",
              "    .dataframe tbody tr th:only-of-type {\n",
              "        vertical-align: middle;\n",
              "    }\n",
              "\n",
              "    .dataframe tbody tr th {\n",
              "        vertical-align: top;\n",
              "    }\n",
              "\n",
              "    .dataframe thead th {\n",
              "        text-align: right;\n",
              "    }\n",
              "</style>\n",
              "<table border=\"1\" class=\"dataframe\">\n",
              "  <thead>\n",
              "    <tr style=\"text-align: right;\">\n",
              "      <th></th>\n",
              "      <th>price</th>\n",
              "      <th>area</th>\n",
              "      <th>bedrooms</th>\n",
              "      <th>bathrooms</th>\n",
              "      <th>stories</th>\n",
              "      <th>mainroad</th>\n",
              "      <th>guestroom</th>\n",
              "      <th>basement</th>\n",
              "      <th>hotwaterheating</th>\n",
              "      <th>airconditioning</th>\n",
              "      <th>parking</th>\n",
              "      <th>prefarea</th>\n",
              "      <th>furnishingstatus</th>\n",
              "    </tr>\n",
              "  </thead>\n",
              "  <tbody>\n",
              "    <tr>\n",
              "      <th>0</th>\n",
              "      <td>13300000</td>\n",
              "      <td>7420</td>\n",
              "      <td>4</td>\n",
              "      <td>2</td>\n",
              "      <td>3</td>\n",
              "      <td>1</td>\n",
              "      <td>0</td>\n",
              "      <td>0</td>\n",
              "      <td>0</td>\n",
              "      <td>1</td>\n",
              "      <td>2</td>\n",
              "      <td>1</td>\n",
              "      <td>furnished</td>\n",
              "    </tr>\n",
              "    <tr>\n",
              "      <th>1</th>\n",
              "      <td>12250000</td>\n",
              "      <td>8960</td>\n",
              "      <td>4</td>\n",
              "      <td>4</td>\n",
              "      <td>4</td>\n",
              "      <td>1</td>\n",
              "      <td>0</td>\n",
              "      <td>0</td>\n",
              "      <td>0</td>\n",
              "      <td>1</td>\n",
              "      <td>3</td>\n",
              "      <td>0</td>\n",
              "      <td>furnished</td>\n",
              "    </tr>\n",
              "    <tr>\n",
              "      <th>2</th>\n",
              "      <td>12250000</td>\n",
              "      <td>9960</td>\n",
              "      <td>3</td>\n",
              "      <td>2</td>\n",
              "      <td>2</td>\n",
              "      <td>1</td>\n",
              "      <td>0</td>\n",
              "      <td>1</td>\n",
              "      <td>0</td>\n",
              "      <td>0</td>\n",
              "      <td>2</td>\n",
              "      <td>1</td>\n",
              "      <td>semi-furnished</td>\n",
              "    </tr>\n",
              "    <tr>\n",
              "      <th>3</th>\n",
              "      <td>12215000</td>\n",
              "      <td>7500</td>\n",
              "      <td>4</td>\n",
              "      <td>2</td>\n",
              "      <td>2</td>\n",
              "      <td>1</td>\n",
              "      <td>0</td>\n",
              "      <td>1</td>\n",
              "      <td>0</td>\n",
              "      <td>1</td>\n",
              "      <td>3</td>\n",
              "      <td>1</td>\n",
              "      <td>furnished</td>\n",
              "    </tr>\n",
              "    <tr>\n",
              "      <th>4</th>\n",
              "      <td>11410000</td>\n",
              "      <td>7420</td>\n",
              "      <td>4</td>\n",
              "      <td>1</td>\n",
              "      <td>2</td>\n",
              "      <td>1</td>\n",
              "      <td>1</td>\n",
              "      <td>1</td>\n",
              "      <td>0</td>\n",
              "      <td>1</td>\n",
              "      <td>2</td>\n",
              "      <td>0</td>\n",
              "      <td>furnished</td>\n",
              "    </tr>\n",
              "  </tbody>\n",
              "</table>\n",
              "</div>\n",
              "    <div class=\"colab-df-buttons\">\n",
              "\n",
              "  <div class=\"colab-df-container\">\n",
              "    <button class=\"colab-df-convert\" onclick=\"convertToInteractive('df-095a4bf4-cd29-43f2-9583-0b3a3ed65c54')\"\n",
              "            title=\"Convert this dataframe to an interactive table.\"\n",
              "            style=\"display:none;\">\n",
              "\n",
              "  <svg xmlns=\"http://www.w3.org/2000/svg\" height=\"24px\" viewBox=\"0 -960 960 960\">\n",
              "    <path d=\"M120-120v-720h720v720H120Zm60-500h600v-160H180v160Zm220 220h160v-160H400v160Zm0 220h160v-160H400v160ZM180-400h160v-160H180v160Zm440 0h160v-160H620v160ZM180-180h160v-160H180v160Zm440 0h160v-160H620v160Z\"/>\n",
              "  </svg>\n",
              "    </button>\n",
              "\n",
              "  <style>\n",
              "    .colab-df-container {\n",
              "      display:flex;\n",
              "      gap: 12px;\n",
              "    }\n",
              "\n",
              "    .colab-df-convert {\n",
              "      background-color: #E8F0FE;\n",
              "      border: none;\n",
              "      border-radius: 50%;\n",
              "      cursor: pointer;\n",
              "      display: none;\n",
              "      fill: #1967D2;\n",
              "      height: 32px;\n",
              "      padding: 0 0 0 0;\n",
              "      width: 32px;\n",
              "    }\n",
              "\n",
              "    .colab-df-convert:hover {\n",
              "      background-color: #E2EBFA;\n",
              "      box-shadow: 0px 1px 2px rgba(60, 64, 67, 0.3), 0px 1px 3px 1px rgba(60, 64, 67, 0.15);\n",
              "      fill: #174EA6;\n",
              "    }\n",
              "\n",
              "    .colab-df-buttons div {\n",
              "      margin-bottom: 4px;\n",
              "    }\n",
              "\n",
              "    [theme=dark] .colab-df-convert {\n",
              "      background-color: #3B4455;\n",
              "      fill: #D2E3FC;\n",
              "    }\n",
              "\n",
              "    [theme=dark] .colab-df-convert:hover {\n",
              "      background-color: #434B5C;\n",
              "      box-shadow: 0px 1px 3px 1px rgba(0, 0, 0, 0.15);\n",
              "      filter: drop-shadow(0px 1px 2px rgba(0, 0, 0, 0.3));\n",
              "      fill: #FFFFFF;\n",
              "    }\n",
              "  </style>\n",
              "\n",
              "    <script>\n",
              "      const buttonEl =\n",
              "        document.querySelector('#df-095a4bf4-cd29-43f2-9583-0b3a3ed65c54 button.colab-df-convert');\n",
              "      buttonEl.style.display =\n",
              "        google.colab.kernel.accessAllowed ? 'block' : 'none';\n",
              "\n",
              "      async function convertToInteractive(key) {\n",
              "        const element = document.querySelector('#df-095a4bf4-cd29-43f2-9583-0b3a3ed65c54');\n",
              "        const dataTable =\n",
              "          await google.colab.kernel.invokeFunction('convertToInteractive',\n",
              "                                                    [key], {});\n",
              "        if (!dataTable) return;\n",
              "\n",
              "        const docLinkHtml = 'Like what you see? Visit the ' +\n",
              "          '<a target=\"_blank\" href=https://colab.research.google.com/notebooks/data_table.ipynb>data table notebook</a>'\n",
              "          + ' to learn more about interactive tables.';\n",
              "        element.innerHTML = '';\n",
              "        dataTable['output_type'] = 'display_data';\n",
              "        await google.colab.output.renderOutput(dataTable, element);\n",
              "        const docLink = document.createElement('div');\n",
              "        docLink.innerHTML = docLinkHtml;\n",
              "        element.appendChild(docLink);\n",
              "      }\n",
              "    </script>\n",
              "  </div>\n",
              "\n",
              "\n",
              "<div id=\"df-7da921c8-ac1a-45f7-a1db-33c5f8f9f601\">\n",
              "  <button class=\"colab-df-quickchart\" onclick=\"quickchart('df-7da921c8-ac1a-45f7-a1db-33c5f8f9f601')\"\n",
              "            title=\"Suggest charts.\"\n",
              "            style=\"display:none;\">\n",
              "\n",
              "<svg xmlns=\"http://www.w3.org/2000/svg\" height=\"24px\"viewBox=\"0 0 24 24\"\n",
              "     width=\"24px\">\n",
              "    <g>\n",
              "        <path d=\"M19 3H5c-1.1 0-2 .9-2 2v14c0 1.1.9 2 2 2h14c1.1 0 2-.9 2-2V5c0-1.1-.9-2-2-2zM9 17H7v-7h2v7zm4 0h-2V7h2v10zm4 0h-2v-4h2v4z\"/>\n",
              "    </g>\n",
              "</svg>\n",
              "  </button>\n",
              "\n",
              "<style>\n",
              "  .colab-df-quickchart {\n",
              "      --bg-color: #E8F0FE;\n",
              "      --fill-color: #1967D2;\n",
              "      --hover-bg-color: #E2EBFA;\n",
              "      --hover-fill-color: #174EA6;\n",
              "      --disabled-fill-color: #AAA;\n",
              "      --disabled-bg-color: #DDD;\n",
              "  }\n",
              "\n",
              "  [theme=dark] .colab-df-quickchart {\n",
              "      --bg-color: #3B4455;\n",
              "      --fill-color: #D2E3FC;\n",
              "      --hover-bg-color: #434B5C;\n",
              "      --hover-fill-color: #FFFFFF;\n",
              "      --disabled-bg-color: #3B4455;\n",
              "      --disabled-fill-color: #666;\n",
              "  }\n",
              "\n",
              "  .colab-df-quickchart {\n",
              "    background-color: var(--bg-color);\n",
              "    border: none;\n",
              "    border-radius: 50%;\n",
              "    cursor: pointer;\n",
              "    display: none;\n",
              "    fill: var(--fill-color);\n",
              "    height: 32px;\n",
              "    padding: 0;\n",
              "    width: 32px;\n",
              "  }\n",
              "\n",
              "  .colab-df-quickchart:hover {\n",
              "    background-color: var(--hover-bg-color);\n",
              "    box-shadow: 0 1px 2px rgba(60, 64, 67, 0.3), 0 1px 3px 1px rgba(60, 64, 67, 0.15);\n",
              "    fill: var(--button-hover-fill-color);\n",
              "  }\n",
              "\n",
              "  .colab-df-quickchart-complete:disabled,\n",
              "  .colab-df-quickchart-complete:disabled:hover {\n",
              "    background-color: var(--disabled-bg-color);\n",
              "    fill: var(--disabled-fill-color);\n",
              "    box-shadow: none;\n",
              "  }\n",
              "\n",
              "  .colab-df-spinner {\n",
              "    border: 2px solid var(--fill-color);\n",
              "    border-color: transparent;\n",
              "    border-bottom-color: var(--fill-color);\n",
              "    animation:\n",
              "      spin 1s steps(1) infinite;\n",
              "  }\n",
              "\n",
              "  @keyframes spin {\n",
              "    0% {\n",
              "      border-color: transparent;\n",
              "      border-bottom-color: var(--fill-color);\n",
              "      border-left-color: var(--fill-color);\n",
              "    }\n",
              "    20% {\n",
              "      border-color: transparent;\n",
              "      border-left-color: var(--fill-color);\n",
              "      border-top-color: var(--fill-color);\n",
              "    }\n",
              "    30% {\n",
              "      border-color: transparent;\n",
              "      border-left-color: var(--fill-color);\n",
              "      border-top-color: var(--fill-color);\n",
              "      border-right-color: var(--fill-color);\n",
              "    }\n",
              "    40% {\n",
              "      border-color: transparent;\n",
              "      border-right-color: var(--fill-color);\n",
              "      border-top-color: var(--fill-color);\n",
              "    }\n",
              "    60% {\n",
              "      border-color: transparent;\n",
              "      border-right-color: var(--fill-color);\n",
              "    }\n",
              "    80% {\n",
              "      border-color: transparent;\n",
              "      border-right-color: var(--fill-color);\n",
              "      border-bottom-color: var(--fill-color);\n",
              "    }\n",
              "    90% {\n",
              "      border-color: transparent;\n",
              "      border-bottom-color: var(--fill-color);\n",
              "    }\n",
              "  }\n",
              "</style>\n",
              "\n",
              "  <script>\n",
              "    async function quickchart(key) {\n",
              "      const quickchartButtonEl =\n",
              "        document.querySelector('#' + key + ' button');\n",
              "      quickchartButtonEl.disabled = true;  // To prevent multiple clicks.\n",
              "      quickchartButtonEl.classList.add('colab-df-spinner');\n",
              "      try {\n",
              "        const charts = await google.colab.kernel.invokeFunction(\n",
              "            'suggestCharts', [key], {});\n",
              "      } catch (error) {\n",
              "        console.error('Error during call to suggestCharts:', error);\n",
              "      }\n",
              "      quickchartButtonEl.classList.remove('colab-df-spinner');\n",
              "      quickchartButtonEl.classList.add('colab-df-quickchart-complete');\n",
              "    }\n",
              "    (() => {\n",
              "      let quickchartButtonEl =\n",
              "        document.querySelector('#df-7da921c8-ac1a-45f7-a1db-33c5f8f9f601 button');\n",
              "      quickchartButtonEl.style.display =\n",
              "        google.colab.kernel.accessAllowed ? 'block' : 'none';\n",
              "    })();\n",
              "  </script>\n",
              "</div>\n",
              "    </div>\n",
              "  </div>\n"
            ]
          },
          "metadata": {},
          "execution_count": 4
        }
      ],
      "source": [
        "# List of variables to map\n",
        "\n",
        "varlist =  ['mainroad', 'guestroom', 'basement', 'hotwaterheating', 'airconditioning', 'prefarea']\n",
        "\n",
        "# Defining the map function\n",
        "def binary_map(x):\n",
        "    return x.map({'yes': 1, 'no': 0})\n",
        "\n",
        "# Applying the function to the housing list\n",
        "housing[varlist] = housing[varlist].apply(binary_map)\n",
        "housing.head()"
      ]
    },
    {
      "cell_type": "code",
      "execution_count": 5,
      "metadata": {
        "id": "FQvXewg45py9"
      },
      "outputs": [],
      "source": [
        "from sklearn.model_selection import train_test_split\n",
        "\n",
        "# We specify this so that the train and test data set always have the same rows, respectively\n",
        "np.random.seed(0)\n",
        "df_train, df_test = train_test_split(housing, train_size = 0.8, test_size = 0.2, random_state = 100)"
      ]
    },
    {
      "cell_type": "code",
      "execution_count": 6,
      "metadata": {
        "id": "bcVWuvFR5seQ"
      },
      "outputs": [],
      "source": [
        "num_varsa = ['area', 'bedrooms', 'bathrooms', 'stories', 'parking','price']"
      ]
    },
    {
      "cell_type": "code",
      "execution_count": 7,
      "metadata": {
        "colab": {
          "base_uri": "https://localhost:8080/"
        },
        "id": "xYX8VloU591b",
        "outputId": "6750b1c0-2f17-4ee6-abd4-43d729035820"
      },
      "outputs": [
        {
          "output_type": "stream",
          "name": "stdout",
          "text": [
            "X =  [[8050    3    1    1    1]\n",
            " [6360    3    2    4    0]\n",
            " [6750    2    1    1    2]\n",
            " [6420    3    1    1    0]\n",
            " [3630    4    1    2    3]]\n",
            "y =  [8645000 7840000 6419000 5950000 3010000]\n",
            "m =  436\n",
            "n =  436\n"
          ]
        }
      ],
      "source": [
        "# Separate features and labels\n",
        "X_train = df_train[num_varsa].values[:, (0,1,2,3,4)]  # get input values from first column -- X is a list here\n",
        "y_train = df_train[num_varsa].values[:, 5]  # get output values from second column -- Y is the list here\n",
        "m_train = len(y_train)  # Number of training examples\n",
        "n_train = len(X_train)  # Number of training examples\n",
        "\n",
        "\n",
        "# Display first 5 records and the total number of training examples\n",
        "print('X = ', X_train[: 5])\n",
        "print('y = ', y_train[: 5])\n",
        "print('m = ', m_train)\n",
        "print('n = ', n_train)"
      ]
    },
    {
      "cell_type": "code",
      "execution_count": 8,
      "metadata": {
        "colab": {
          "base_uri": "https://localhost:8080/"
        },
        "id": "QonT2_4k6aDX",
        "outputId": "f456459d-76c0-480a-fa70-d5c73ff3611f"
      },
      "outputs": [
        {
          "output_type": "stream",
          "name": "stdout",
          "text": [
            "X =  [[ 2880     3     1     2     0]\n",
            " [ 6000     3     2     2     1]\n",
            " [10269     3     1     1     1]\n",
            " [ 5320     3     1     2     0]\n",
            " [ 4950     4     1     2     0]]\n",
            "y =  [4403000 7350000 5250000 4550000 4382000]\n",
            "m =  109\n",
            "n =  109\n"
          ]
        }
      ],
      "source": [
        "# Separate features and labels\n",
        "X_test = df_test[num_varsa].values[:, (0,1,2,3,4)]  # get input values from first column -- X is a list here\n",
        "y_test = df_test[num_varsa].values[:, 5]  # get output values from second column -- Y is the list here\n",
        "m_test = len(y_test)  # Number of training examples\n",
        "n_test = len(X_test)  # Number of training examples\n",
        "\n",
        "\n",
        "# Display first 5 records and the total number of training examples\n",
        "print('X = ', X_test[: 5])\n",
        "print('y = ', y_test[: 5])\n",
        "print('m = ', m_test)\n",
        "print('n = ', n_test)"
      ]
    },
    {
      "cell_type": "code",
      "execution_count": 9,
      "metadata": {
        "colab": {
          "base_uri": "https://localhost:8080/"
        },
        "id": "vua_dxGQ6j5E",
        "outputId": "715367d2-62f1-4581-ed6e-010f42603398"
      },
      "outputs": [
        {
          "output_type": "execute_result",
          "data": {
            "text/plain": [
              "array([[1.],\n",
              "       [1.],\n",
              "       [1.],\n",
              "       [1.],\n",
              "       [1.]])"
            ]
          },
          "metadata": {},
          "execution_count": 9
        }
      ],
      "source": [
        "X_0train = np.ones((m_train, 1))\n",
        "X_0train[:5]"
      ]
    },
    {
      "cell_type": "code",
      "execution_count": 10,
      "metadata": {
        "colab": {
          "base_uri": "https://localhost:8080/"
        },
        "id": "jIQuLHKH7sfA",
        "outputId": "5b7f7ebf-2408-4a1b-d3f8-e2f9077a32d8"
      },
      "outputs": [
        {
          "output_type": "execute_result",
          "data": {
            "text/plain": [
              "array([[1.],\n",
              "       [1.],\n",
              "       [1.],\n",
              "       [1.],\n",
              "       [1.]])"
            ]
          },
          "metadata": {},
          "execution_count": 10
        }
      ],
      "source": [
        "X_0test = np.ones((m_test, 1))\n",
        "X_0test[:5]"
      ]
    },
    {
      "cell_type": "code",
      "execution_count": 11,
      "metadata": {
        "colab": {
          "base_uri": "https://localhost:8080/"
        },
        "id": "4S1U9_3Y7v1d",
        "outputId": "7162f6a6-e6b7-41bd-983d-ff3c1c70a49e"
      },
      "outputs": [
        {
          "output_type": "execute_result",
          "data": {
            "text/plain": [
              "array([[8050,    3,    1,    1,    1],\n",
              "       [6360,    3,    2,    4,    0],\n",
              "       [6750,    2,    1,    1,    2],\n",
              "       [6420,    3,    1,    1,    0],\n",
              "       [3630,    4,    1,    2,    3],\n",
              "       [3850,    2,    1,    1,    0],\n",
              "       [8960,    4,    4,    4,    3],\n",
              "       [8250,    3,    1,    1,    0],\n",
              "       [3000,    3,    2,    2,    0],\n",
              "       [4032,    2,    1,    1,    0]])"
            ]
          },
          "metadata": {},
          "execution_count": 11
        }
      ],
      "source": [
        "X_1train = X_train.reshape(m_train, 5)\n",
        "X_1train[:10]"
      ]
    },
    {
      "cell_type": "code",
      "execution_count": 12,
      "metadata": {
        "colab": {
          "base_uri": "https://localhost:8080/"
        },
        "id": "1TYqJt6S73VI",
        "outputId": "16cb2463-99c6-4374-cf54-4f158078e7d6"
      },
      "outputs": [
        {
          "output_type": "execute_result",
          "data": {
            "text/plain": [
              "array([[ 2880,     3,     1,     2,     0],\n",
              "       [ 6000,     3,     2,     2,     1],\n",
              "       [10269,     3,     1,     1,     1],\n",
              "       [ 5320,     3,     1,     2,     0],\n",
              "       [ 4950,     4,     1,     2,     0],\n",
              "       [ 4320,     3,     1,     1,     0],\n",
              "       [ 6540,     4,     2,     2,     2],\n",
              "       [ 6540,     4,     2,     2,     0],\n",
              "       [ 6800,     2,     1,     1,     0],\n",
              "       [ 6540,     3,     1,     1,     2]])"
            ]
          },
          "metadata": {},
          "execution_count": 12
        }
      ],
      "source": [
        "X_1test = X_test.reshape(m_test, 5)\n",
        "X_1test[:10]"
      ]
    },
    {
      "cell_type": "code",
      "execution_count": 13,
      "metadata": {
        "colab": {
          "base_uri": "https://localhost:8080/"
        },
        "id": "DFX-A2ow8AR_",
        "outputId": "a1116cc4-c17c-4eed-e0c0-a05f110a83c4"
      },
      "outputs": [
        {
          "output_type": "execute_result",
          "data": {
            "text/plain": [
              "array([[1.00e+00, 8.05e+03, 3.00e+00, 1.00e+00, 1.00e+00, 1.00e+00],\n",
              "       [1.00e+00, 6.36e+03, 3.00e+00, 2.00e+00, 4.00e+00, 0.00e+00],\n",
              "       [1.00e+00, 6.75e+03, 2.00e+00, 1.00e+00, 1.00e+00, 2.00e+00],\n",
              "       [1.00e+00, 6.42e+03, 3.00e+00, 1.00e+00, 1.00e+00, 0.00e+00],\n",
              "       [1.00e+00, 3.63e+03, 4.00e+00, 1.00e+00, 2.00e+00, 3.00e+00]])"
            ]
          },
          "metadata": {},
          "execution_count": 13
        }
      ],
      "source": [
        "Xtrain = np.hstack((X_0train, X_1train))\n",
        "Xtrain[:5]"
      ]
    },
    {
      "cell_type": "code",
      "execution_count": 14,
      "metadata": {
        "colab": {
          "base_uri": "https://localhost:8080/"
        },
        "id": "UpmStGzi8HyD",
        "outputId": "10d5713e-2caa-464e-c9d3-1c0f6aa50058"
      },
      "outputs": [
        {
          "output_type": "execute_result",
          "data": {
            "text/plain": [
              "array([[1.0000e+00, 2.8800e+03, 3.0000e+00, 1.0000e+00, 2.0000e+00,\n",
              "        0.0000e+00],\n",
              "       [1.0000e+00, 6.0000e+03, 3.0000e+00, 2.0000e+00, 2.0000e+00,\n",
              "        1.0000e+00],\n",
              "       [1.0000e+00, 1.0269e+04, 3.0000e+00, 1.0000e+00, 1.0000e+00,\n",
              "        1.0000e+00],\n",
              "       [1.0000e+00, 5.3200e+03, 3.0000e+00, 1.0000e+00, 2.0000e+00,\n",
              "        0.0000e+00],\n",
              "       [1.0000e+00, 4.9500e+03, 4.0000e+00, 1.0000e+00, 2.0000e+00,\n",
              "        0.0000e+00]])"
            ]
          },
          "metadata": {},
          "execution_count": 14
        }
      ],
      "source": [
        "Xtest = np.hstack((X_0test, X_1test))\n",
        "Xtest[:5]"
      ]
    },
    {
      "cell_type": "code",
      "execution_count": 15,
      "metadata": {
        "colab": {
          "base_uri": "https://localhost:8080/"
        },
        "id": "t1cOVRRw8MXh",
        "outputId": "3e455fe8-959f-4a6e-b2d4-ead347df7471"
      },
      "outputs": [
        {
          "output_type": "stream",
          "name": "stdout",
          "text": [
            "545\n"
          ]
        }
      ],
      "source": [
        "theta = np.zeros(6)\n",
        "m = len(housing)\n",
        "print(m)"
      ]
    },
    {
      "cell_type": "code",
      "execution_count": 16,
      "metadata": {
        "id": "y6hBTV5g8PrJ"
      },
      "outputs": [],
      "source": [
        "def compute_cost_train(X, y, theta):\n",
        "    predictions = X.dot(theta)\n",
        "    errors = np.subtract(predictions, y)\n",
        "    sqrErrors = np.square(errors)\n",
        "    J = 1 / (2 * m) * np.sum(sqrErrors)\n",
        "    return J"
      ]
    },
    {
      "cell_type": "code",
      "execution_count": 17,
      "metadata": {
        "id": "8K_RAooI8d1i"
      },
      "outputs": [],
      "source": [
        "def gradient_descent(X, Xtest, y, y_test, theta, alpha, iterations):\n",
        "    m_train = len(y)  # Number of training examples\n",
        "    m_test = len(y_test)  # Number of testing examples\n",
        "    cost_history_train = np.zeros(iterations)\n",
        "    cost_history_test = np.zeros(iterations)\n",
        "\n",
        "    for i in range(iterations):\n",
        "        predictions = X.dot(theta)\n",
        "        errors = np.subtract(predictions, y)\n",
        "        gradients = (2/m_train) * X.transpose().dot(errors)\n",
        "        theta -= alpha * gradients\n",
        "\n",
        "        train_loss = (1/m_train) * np.sum(np.square(X.dot(theta) - y))\n",
        "        cost_history_train[i] = train_loss\n",
        "\n",
        "        val_loss = (1/m_test) * np.sum(np.square(Xtest.dot(theta) - y_test))\n",
        "        cost_history_test[i] = val_loss\n",
        "\n",
        "    return theta, cost_history_train, cost_history_test\n"
      ]
    },
    {
      "cell_type": "code",
      "execution_count": 18,
      "metadata": {
        "id": "gg0TN60M9EMQ"
      },
      "outputs": [],
      "source": [
        "iterations = 1500\n",
        "alpha =  0.000000001"
      ]
    },
    {
      "cell_type": "code",
      "execution_count": 19,
      "metadata": {
        "colab": {
          "base_uri": "https://localhost:8080/"
        },
        "id": "is1qQxu79EiD",
        "outputId": "008d5f22-06b6-4c78-c5e6-fcc84a72169b"
      },
      "outputs": [
        {
          "output_type": "stream",
          "name": "stdout",
          "text": [
            "Final value of theta = [  1.2253371  861.91048121   4.51279359   2.57703268   3.93395411\n",
            "   0.96779989]\n",
            "cost_history = [2.36944282e+13 2.12466211e+13 1.90937682e+13 ... 3.38019315e+12\n",
            " 3.38019314e+12 3.38019312e+12] [2.24176818e+13 2.00129484e+13 1.79036584e+13 ... 3.21892431e+12\n",
            " 3.21892429e+12 3.21892428e+12]\n"
          ]
        }
      ],
      "source": [
        "theta, cost_history_train, cost_history_test = gradient_descent(Xtrain, Xtest, y_train, y_test, theta, alpha, iterations)\n",
        "print('Final value of theta =', theta)\n",
        "print('cost_history =', cost_history_train, cost_history_test)"
      ]
    },
    {
      "cell_type": "code",
      "execution_count": 20,
      "metadata": {
        "colab": {
          "base_uri": "https://localhost:8080/",
          "height": 472
        },
        "id": "DmursvoZ_5lb",
        "outputId": "ec87572d-b954-472d-e29a-d77195ff1c81"
      },
      "outputs": [
        {
          "output_type": "display_data",
          "data": {
            "text/plain": [
              "<Figure size 640x480 with 1 Axes>"
            ],
            "image/png": "[encoded data removed]"
          },
          "metadata": {}
        }
      ],
      "source": [
        "plt.plot(cost_history_train, label=\"Training Loss\")\n",
        "plt.plot(cost_history_test, label=\"Validation Loss\")\n",
        "plt.xlabel(\"Iteration\")\n",
        "plt.ylabel(\"Mean Squared Error\")\n",
        "plt.legend()\n",
        "plt.title(\"Training and Validation Loss Over Iterations\")\n",
        "plt.show()"
      ]
    },
    {
      "cell_type": "markdown",
      "metadata": {
        "id": "F3Li1QogEVSa"
      },
      "source": [
        "Problem 1B"
      ]
    },
    {
      "cell_type": "code",
      "execution_count": 21,
      "metadata": {
        "id": "svpYDwcdBnx5"
      },
      "outputs": [],
      "source": [
        "num_vars = ['area', 'bedrooms', 'bathrooms', 'stories', 'mainroad', 'guestroom', 'basement', 'hotwaterheating', 'airconditioning', 'parking','prefarea','price']\n"
      ]
    },
    {
      "cell_type": "code",
      "execution_count": 22,
      "metadata": {
        "colab": {
          "base_uri": "https://localhost:8080/"
        },
        "id": "tEBtDjmmCLOp",
        "outputId": "8751cf5c-82e0-42c6-e53d-f7f91d8d2858"
      },
      "outputs": [
        {
          "output_type": "stream",
          "name": "stdout",
          "text": [
            "X =  [[8050    3    1    1    1    1    1    0    1    1    0]\n",
            " [6360    3    2    4    1    0    0    0    1    0    1]\n",
            " [6750    2    1    1    1    1    1    0    0    2    1]\n",
            " [6420    3    1    1    1    0    1    0    1    0    1]\n",
            " [3630    4    1    2    1    0    0    0    0    3    0]]\n",
            "y =  [8645000 7840000 6419000 5950000 3010000]\n",
            "m =  436\n",
            "n =  436\n"
          ]
        }
      ],
      "source": [
        "# Separate features and labels\n",
        "X_trainb = df_train[num_vars].values[:, 0:11]  # get input values from first column -- X is a list here\n",
        "y_trainb = df_train[num_vars].values[:, 11]  # get output values from second column -- Y is the list here\n",
        "m_trainb = len(y_trainb)  # Number of training examples\n",
        "n_trainb = len(X_trainb)  # Number of training examples\n",
        "\n",
        "\n",
        "# Display first 5 records and the total number of training examples\n",
        "print('X = ', X_trainb[: 5])\n",
        "print('y = ', y_trainb[: 5])\n",
        "print('m = ', m_trainb)\n",
        "print('n = ', n_trainb)"
      ]
    },
    {
      "cell_type": "code",
      "execution_count": 23,
      "metadata": {
        "colab": {
          "base_uri": "https://localhost:8080/"
        },
        "id": "tF2SBZ-rCnMz",
        "outputId": "f48a9629-65a1-4f01-cad3-5718a6f77d85"
      },
      "outputs": [
        {
          "output_type": "stream",
          "name": "stdout",
          "text": [
            "X =  [[ 2880     3     1     2     0]\n",
            " [ 6000     3     2     2     1]\n",
            " [10269     3     1     1     1]\n",
            " [ 5320     3     1     2     0]\n",
            " [ 4950     4     1     2     0]]\n",
            "y =  [4403000 7350000 5250000 4550000 4382000]\n",
            "m =  109\n",
            "n =  109\n"
          ]
        }
      ],
      "source": [
        "# Separate features and labels\n",
        "X_testb = df_test[num_vars].values[:, 0:11]  # get input values from first column -- X is a list here\n",
        "y_testb = df_test[num_vars].values[:, 11]  # get output values from second column -- Y is the list here\n",
        "m_testb = len(y_test)  # Number of training examples\n",
        "n_testb = len(X_test)  # Number of training examples\n",
        "\n",
        "\n",
        "# Display first 5 records and the total number of training examples\n",
        "print('X = ', X_test[: 5])\n",
        "print('y = ', y_test[: 5])\n",
        "print('m = ', m_test)\n",
        "print('n = ', n_test)"
      ]
    },
    {
      "cell_type": "code",
      "execution_count": 24,
      "metadata": {
        "id": "CaFXeU-YCzQa"
      },
      "outputs": [],
      "source": [
        "X_0trainb = np.ones((m_trainb, 1))\n",
        "X_0testb = np.ones((m_testb, 1))"
      ]
    },
    {
      "cell_type": "code",
      "execution_count": 25,
      "metadata": {
        "colab": {
          "base_uri": "https://localhost:8080/"
        },
        "id": "3nOumalpC8DR",
        "outputId": "e5aaaccc-be82-4975-aa94-8f4964e5881b"
      },
      "outputs": [
        {
          "output_type": "execute_result",
          "data": {
            "text/plain": [
              "array([[8050,    3,    1,    1,    1,    1,    1,    0,    1,    1,    0],\n",
              "       [6360,    3,    2,    4,    1,    0,    0,    0,    1,    0,    1],\n",
              "       [6750,    2,    1,    1,    1,    1,    1,    0,    0,    2,    1],\n",
              "       [6420,    3,    1,    1,    1,    0,    1,    0,    1,    0,    1],\n",
              "       [3630,    4,    1,    2,    1,    0,    0,    0,    0,    3,    0],\n",
              "       [3850,    2,    1,    1,    1,    0,    0,    0,    0,    0,    0],\n",
              "       [8960,    4,    4,    4,    1,    0,    0,    0,    1,    3,    0],\n",
              "       [8250,    3,    1,    1,    1,    0,    0,    0,    0,    0,    0],\n",
              "       [3000,    3,    2,    2,    1,    1,    1,    0,    0,    0,    0],\n",
              "       [4032,    2,    1,    1,    1,    0,    1,    0,    0,    0,    0]])"
            ]
          },
          "metadata": {},
          "execution_count": 25
        }
      ],
      "source": [
        "X_1trainb = X_trainb.reshape(m_trainb, 11)\n",
        "X_1trainb[:10]"
      ]
    },
    {
      "cell_type": "code",
      "execution_count": 26,
      "metadata": {
        "colab": {
          "base_uri": "https://localhost:8080/"
        },
        "id": "HErOzgJJDo2i",
        "outputId": "c7392ddb-cd8b-4253-8c50-de39a21b9ee4"
      },
      "outputs": [
        {
          "output_type": "execute_result",
          "data": {
            "text/plain": [
              "array([[ 2880,     3,     1,     2,     1,     0,     0,     0,     0,\n",
              "            0,     1],\n",
              "       [ 6000,     3,     2,     2,     1,     1,     0,     0,     1,\n",
              "            1,     0],\n",
              "       [10269,     3,     1,     1,     1,     0,     0,     0,     0,\n",
              "            1,     1],\n",
              "       [ 5320,     3,     1,     2,     1,     1,     1,     0,     0,\n",
              "            0,     1],\n",
              "       [ 4950,     4,     1,     2,     1,     0,     0,     0,     1,\n",
              "            0,     0],\n",
              "       [ 4320,     3,     1,     1,     1,     0,     0,     0,     0,\n",
              "            0,     1],\n",
              "       [ 6540,     4,     2,     2,     1,     1,     1,     0,     1,\n",
              "            2,     1],\n",
              "       [ 6540,     4,     2,     2,     0,     0,     0,     0,     1,\n",
              "            0,     0],\n",
              "       [ 6800,     2,     1,     1,     1,     0,     0,     0,     0,\n",
              "            0,     0],\n",
              "       [ 6540,     3,     1,     1,     1,     1,     1,     0,     0,\n",
              "            2,     1]])"
            ]
          },
          "metadata": {},
          "execution_count": 26
        }
      ],
      "source": [
        "X_1testb = X_testb.reshape(m_testb, 11)\n",
        "X_1testb[:10]"
      ]
    },
    {
      "cell_type": "code",
      "execution_count": 27,
      "metadata": {
        "colab": {
          "base_uri": "https://localhost:8080/"
        },
        "id": "KRLPHfcEDuni",
        "outputId": "a425a98f-e393-48b8-9944-bec8b1715c98"
      },
      "outputs": [
        {
          "output_type": "execute_result",
          "data": {
            "text/plain": [
              "array([[1.00e+00, 8.05e+03, 3.00e+00, 1.00e+00, 1.00e+00, 1.00e+00,\n",
              "        1.00e+00, 1.00e+00, 0.00e+00, 1.00e+00, 1.00e+00, 0.00e+00],\n",
              "       [1.00e+00, 6.36e+03, 3.00e+00, 2.00e+00, 4.00e+00, 1.00e+00,\n",
              "        0.00e+00, 0.00e+00, 0.00e+00, 1.00e+00, 0.00e+00, 1.00e+00],\n",
              "       [1.00e+00, 6.75e+03, 2.00e+00, 1.00e+00, 1.00e+00, 1.00e+00,\n",
              "        1.00e+00, 1.00e+00, 0.00e+00, 0.00e+00, 2.00e+00, 1.00e+00],\n",
              "       [1.00e+00, 6.42e+03, 3.00e+00, 1.00e+00, 1.00e+00, 1.00e+00,\n",
              "        0.00e+00, 1.00e+00, 0.00e+00, 1.00e+00, 0.00e+00, 1.00e+00],\n",
              "       [1.00e+00, 3.63e+03, 4.00e+00, 1.00e+00, 2.00e+00, 1.00e+00,\n",
              "        0.00e+00, 0.00e+00, 0.00e+00, 0.00e+00, 3.00e+00, 0.00e+00]])"
            ]
          },
          "metadata": {},
          "execution_count": 27
        }
      ],
      "source": [
        "Xtrainb = np.hstack((X_0trainb, X_1trainb))\n",
        "Xtrainb[:5]"
      ]
    },
    {
      "cell_type": "code",
      "execution_count": 28,
      "metadata": {
        "colab": {
          "base_uri": "https://localhost:8080/"
        },
        "id": "ORd85a7xDzK_",
        "outputId": "8241081d-aff0-4228-be86-abb4d0aedd4c"
      },
      "outputs": [
        {
          "output_type": "execute_result",
          "data": {
            "text/plain": [
              "array([[1.0000e+00, 2.8800e+03, 3.0000e+00, 1.0000e+00, 2.0000e+00,\n",
              "        1.0000e+00, 0.0000e+00, 0.0000e+00, 0.0000e+00, 0.0000e+00,\n",
              "        0.0000e+00, 1.0000e+00],\n",
              "       [1.0000e+00, 6.0000e+03, 3.0000e+00, 2.0000e+00, 2.0000e+00,\n",
              "        1.0000e+00, 1.0000e+00, 0.0000e+00, 0.0000e+00, 1.0000e+00,\n",
              "        1.0000e+00, 0.0000e+00],\n",
              "       [1.0000e+00, 1.0269e+04, 3.0000e+00, 1.0000e+00, 1.0000e+00,\n",
              "        1.0000e+00, 0.0000e+00, 0.0000e+00, 0.0000e+00, 0.0000e+00,\n",
              "        1.0000e+00, 1.0000e+00],\n",
              "       [1.0000e+00, 5.3200e+03, 3.0000e+00, 1.0000e+00, 2.0000e+00,\n",
              "        1.0000e+00, 1.0000e+00, 1.0000e+00, 0.0000e+00, 0.0000e+00,\n",
              "        0.0000e+00, 1.0000e+00],\n",
              "       [1.0000e+00, 4.9500e+03, 4.0000e+00, 1.0000e+00, 2.0000e+00,\n",
              "        1.0000e+00, 0.0000e+00, 0.0000e+00, 0.0000e+00, 1.0000e+00,\n",
              "        0.0000e+00, 0.0000e+00]])"
            ]
          },
          "metadata": {},
          "execution_count": 28
        }
      ],
      "source": [
        "Xtestb = np.hstack((X_0testb, X_1testb))\n",
        "Xtestb[:5]"
      ]
    },
    {
      "cell_type": "code",
      "execution_count": 29,
      "metadata": {
        "id": "iO9G8J-GD4AL"
      },
      "outputs": [],
      "source": [
        "theta1b = np.zeros(12)"
      ]
    },
    {
      "cell_type": "code",
      "execution_count": 30,
      "metadata": {
        "id": "_XWDXGizD8-c"
      },
      "outputs": [],
      "source": [
        "iterations1b = 1500\n",
        "alpha1b = 0.000000001"
      ]
    },
    {
      "cell_type": "code",
      "execution_count": 31,
      "metadata": {
        "colab": {
          "base_uri": "https://localhost:8080/"
        },
        "id": "B8SmNkA7ED6b",
        "outputId": "60524177-4c34-4fbc-b5cb-c881beadd957"
      },
      "outputs": [
        {
          "output_type": "stream",
          "name": "stdout",
          "text": [
            "Final value of theta = [1.22533683e+00 8.61910190e+02 4.51279273e+00 2.57703229e+00\n",
            " 3.93395349e+00 1.05758155e+00 4.46888356e-01 7.00118508e-01\n",
            " 2.10369703e-01 9.70769990e-01 9.67799742e-01 4.79079852e-01]\n",
            "cost_history = [2.36944281e+13 2.12466209e+13 1.90937679e+13 ... 3.38019131e+12\n",
            " 3.38019129e+12 3.38019127e+12] [2.24176817e+13 2.00129482e+13 1.79036582e+13 ... 3.21892202e+12\n",
            " 3.21892200e+12 3.21892198e+12]\n"
          ]
        }
      ],
      "source": [
        "theta, cost_history_train, cost_history_test = gradient_descent(Xtrainb, Xtestb, y_trainb, y_testb, theta1b, alpha1b, iterations1b)\n",
        "print('Final value of theta =', theta)\n",
        "print('cost_history =', cost_history_train, cost_history_test)"
      ]
    },
    {
      "cell_type": "code",
      "execution_count": 32,
      "metadata": {
        "colab": {
          "base_uri": "https://localhost:8080/",
          "height": 472
        },
        "id": "gu6minjpENPC",
        "outputId": "1be5aa5a-e497-4d53-a14e-aa2afda0b42f"
      },
      "outputs": [
        {
          "output_type": "display_data",
          "data": {
            "text/plain": [
              "<Figure size 640x480 with 1 Axes>"
            ],
            "image/png": "[encoded data removed]"
          },
          "metadata": {}
        }
      ],
      "source": [
        "plt.plot(cost_history_train, label=\"Training Loss\")\n",
        "plt.plot(cost_history_test, label=\"Validation Loss\")\n",
        "plt.xlabel(\"Iteration\")\n",
        "plt.ylabel(\"Mean Squared Error\")\n",
        "plt.legend()\n",
        "plt.title(\"Training and Validation Loss Over Iterations\")\n",
        "plt.show()"
      ]
    },
    {
      "cell_type": "markdown",
      "metadata": {
        "id": "07WZmnHzEboq"
      },
      "source": [
        "Problem 2A"
      ]
    },
    {
      "cell_type": "code",
      "execution_count": 33,
      "metadata": {
        "colab": {
          "base_uri": "https://localhost:8080/",
          "height": 206
        },
        "id": "8lGaFt9MESvB",
        "outputId": "eea96c1b-bbf6-40b3-d43e-66b3e4a152de"
      },
      "outputs": [
        {
          "output_type": "execute_result",
          "data": {
            "text/plain": [
              "       price      area  bedrooms  bathrooms   stories  mainroad  guestroom  \\\n",
              "22   8645000  1.351873  0.078679  -0.579897 -0.929023         1          1   \n",
              "41   7840000  0.565326  0.078679   1.410929  2.474792         1          0   \n",
              "91   6419000  0.746837 -1.293483  -0.579897 -0.929023         1          1   \n",
              "118  5950000  0.593251  0.078679  -0.579897 -0.929023         1          0   \n",
              "472  3010000 -0.705249  1.450841  -0.579897  0.205582         1          0   \n",
              "\n",
              "     basement  hotwaterheating  airconditioning   parking  prefarea  \\\n",
              "22          1                0                1  0.311484         0   \n",
              "41          0                0                1 -0.849261         1   \n",
              "91          1                0                0  1.472229         1   \n",
              "118         1                0                1 -0.849261         1   \n",
              "472         0                0                0  2.632974         0   \n",
              "\n",
              "    furnishingstatus  \n",
              "22         furnished  \n",
              "41         furnished  \n",
              "91         furnished  \n",
              "118        furnished  \n",
              "472   semi-furnished  "
            ],
            "text/html": [
              "\n",
              "  <div id=\"df-1f6e6af0-f465-4f22-97cf-a4685a11e9cd\" class=\"colab-df-container\">\n",
              "    <div>\n",
              "<style scoped>\n",
              "    .dataframe tbody tr th:only-of-type {\n",
              "        vertical-align: middle;\n",
              "    }\n",
              "\n",
              "    .dataframe tbody tr th {\n",
              "        vertical-align: top;\n",
              "    }\n",
              "\n",
              "    .dataframe thead th {\n",
              "        text-align: right;\n",
              "    }\n",
              "</style>\n",
              "<table border=\"1\" class=\"dataframe\">\n",
              "  <thead>\n",
              "    <tr style=\"text-align: right;\">\n",
              "      <th></th>\n",
              "      <th>price</th>\n",
              "      <th>area</th>\n",
              "      <th>bedrooms</th>\n",
              "      <th>bathrooms</th>\n",
              "      <th>stories</th>\n",
              "      <th>mainroad</th>\n",
              "      <th>guestroom</th>\n",
              "      <th>basement</th>\n",
              "      <th>hotwaterheating</th>\n",
              "      <th>airconditioning</th>\n",
              "      <th>parking</th>\n",
              "      <th>prefarea</th>\n",
              "      <th>furnishingstatus</th>\n",
              "    </tr>\n",
              "  </thead>\n",
              "  <tbody>\n",
              "    <tr>\n",
              "      <th>22</th>\n",
              "      <td>8645000</td>\n",
              "      <td>1.351873</td>\n",
              "      <td>0.078679</td>\n",
              "      <td>-0.579897</td>\n",
              "      <td>-0.929023</td>\n",
              "      <td>1</td>\n",
              "      <td>1</td>\n",
              "      <td>1</td>\n",
              "      <td>0</td>\n",
              "      <td>1</td>\n",
              "      <td>0.311484</td>\n",
              "      <td>0</td>\n",
              "      <td>furnished</td>\n",
              "    </tr>\n",
              "    <tr>\n",
              "      <th>41</th>\n",
              "      <td>7840000</td>\n",
              "      <td>0.565326</td>\n",
              "      <td>0.078679</td>\n",
              "      <td>1.410929</td>\n",
              "      <td>2.474792</td>\n",
              "      <td>1</td>\n",
              "      <td>0</td>\n",
              "      <td>0</td>\n",
              "      <td>0</td>\n",
              "      <td>1</td>\n",
              "      <td>-0.849261</td>\n",
              "      <td>1</td>\n",
              "      <td>furnished</td>\n",
              "    </tr>\n",
              "    <tr>\n",
              "      <th>91</th>\n",
              "      <td>6419000</td>\n",
              "      <td>0.746837</td>\n",
              "      <td>-1.293483</td>\n",
              "      <td>-0.579897</td>\n",
              "      <td>-0.929023</td>\n",
              "      <td>1</td>\n",
              "      <td>1</td>\n",
              "      <td>1</td>\n",
              "      <td>0</td>\n",
              "      <td>0</td>\n",
              "      <td>1.472229</td>\n",
              "      <td>1</td>\n",
              "      <td>furnished</td>\n",
              "    </tr>\n",
              "    <tr>\n",
              "      <th>118</th>\n",
              "      <td>5950000</td>\n",
              "      <td>0.593251</td>\n",
              "      <td>0.078679</td>\n",
              "      <td>-0.579897</td>\n",
              "      <td>-0.929023</td>\n",
              "      <td>1</td>\n",
              "      <td>0</td>\n",
              "      <td>1</td>\n",
              "      <td>0</td>\n",
              "      <td>1</td>\n",
              "      <td>-0.849261</td>\n",
              "      <td>1</td>\n",
              "      <td>furnished</td>\n",
              "    </tr>\n",
              "    <tr>\n",
              "      <th>472</th>\n",
              "      <td>3010000</td>\n",
              "      <td>-0.705249</td>\n",
              "      <td>1.450841</td>\n",
              "      <td>-0.579897</td>\n",
              "      <td>0.205582</td>\n",
              "      <td>1</td>\n",
              "      <td>0</td>\n",
              "      <td>0</td>\n",
              "      <td>0</td>\n",
              "      <td>0</td>\n",
              "      <td>2.632974</td>\n",
              "      <td>0</td>\n",
              "      <td>semi-furnished</td>\n",
              "    </tr>\n",
              "  </tbody>\n",
              "</table>\n",
              "</div>\n",
              "    <div class=\"colab-df-buttons\">\n",
              "\n",
              "  <div class=\"colab-df-container\">\n",
              "    <button class=\"colab-df-convert\" onclick=\"convertToInteractive('df-1f6e6af0-f465-4f22-97cf-a4685a11e9cd')\"\n",
              "            title=\"Convert this dataframe to an interactive table.\"\n",
              "            style=\"display:none;\">\n",
              "\n",
              "  <svg xmlns=\"http://www.w3.org/2000/svg\" height=\"24px\" viewBox=\"0 -960 960 960\">\n",
              "    <path d=\"M120-120v-720h720v720H120Zm60-500h600v-160H180v160Zm220 220h160v-160H400v160Zm0 220h160v-160H400v160ZM180-400h160v-160H180v160Zm440 0h160v-160H620v160ZM180-180h160v-160H180v160Zm440 0h160v-160H620v160Z\"/>\n",
              "  </svg>\n",
              "    </button>\n",
              "\n",
              "  <style>\n",
              "    .colab-df-container {\n",
              "      display:flex;\n",
              "      gap: 12px;\n",
              "    }\n",
              "\n",
              "    .colab-df-convert {\n",
              "      background-color: #E8F0FE;\n",
              "      border: none;\n",
              "      border-radius: 50%;\n",
              "      cursor: pointer;\n",
              "      display: none;\n",
              "      fill: #1967D2;\n",
              "      height: 32px;\n",
              "      padding: 0 0 0 0;\n",
              "      width: 32px;\n",
              "    }\n",
              "\n",
              "    .colab-df-convert:hover {\n",
              "      background-color: #E2EBFA;\n",
              "      box-shadow: 0px 1px 2px rgba(60, 64, 67, 0.3), 0px 1px 3px 1px rgba(60, 64, 67, 0.15);\n",
              "      fill: #174EA6;\n",
              "    }\n",
              "\n",
              "    .colab-df-buttons div {\n",
              "      margin-bottom: 4px;\n",
              "    }\n",
              "\n",
              "    [theme=dark] .colab-df-convert {\n",
              "      background-color: #3B4455;\n",
              "      fill: #D2E3FC;\n",
              "    }\n",
              "\n",
              "    [theme=dark] .colab-df-convert:hover {\n",
              "      background-color: #434B5C;\n",
              "      box-shadow: 0px 1px 3px 1px rgba(0, 0, 0, 0.15);\n",
              "      filter: drop-shadow(0px 1px 2px rgba(0, 0, 0, 0.3));\n",
              "      fill: #FFFFFF;\n",
              "    }\n",
              "  </style>\n",
              "\n",
              "    <script>\n",
              "      const buttonEl =\n",
              "        document.querySelector('#df-1f6e6af0-f465-4f22-97cf-a4685a11e9cd button.colab-df-convert');\n",
              "      buttonEl.style.display =\n",
              "        google.colab.kernel.accessAllowed ? 'block' : 'none';\n",
              "\n",
              "      async function convertToInteractive(key) {\n",
              "        const element = document.querySelector('#df-1f6e6af0-f465-4f22-97cf-a4685a11e9cd');\n",
              "        const dataTable =\n",
              "          await google.colab.kernel.invokeFunction('convertToInteractive',\n",
              "                                                    [key], {});\n",
              "        if (!dataTable) return;\n",
              "\n",
              "        const docLinkHtml = 'Like what you see? Visit the ' +\n",
              "          '<a target=\"_blank\" href=https://colab.research.google.com/notebooks/data_table.ipynb>data table notebook</a>'\n",
              "          + ' to learn more about interactive tables.';\n",
              "        element.innerHTML = '';\n",
              "        dataTable['output_type'] = 'display_data';\n",
              "        await google.colab.output.renderOutput(dataTable, element);\n",
              "        const docLink = document.createElement('div');\n",
              "        docLink.innerHTML = docLinkHtml;\n",
              "        element.appendChild(docLink);\n",
              "      }\n",
              "    </script>\n",
              "  </div>\n",
              "\n",
              "\n",
              "<div id=\"df-14d1400f-284b-4aec-a7da-78caecf864e8\">\n",
              "  <button class=\"colab-df-quickchart\" onclick=\"quickchart('df-14d1400f-284b-4aec-a7da-78caecf864e8')\"\n",
              "            title=\"Suggest charts.\"\n",
              "            style=\"display:none;\">\n",
              "\n",
              "<svg xmlns=\"http://www.w3.org/2000/svg\" height=\"24px\"viewBox=\"0 0 24 24\"\n",
              "     width=\"24px\">\n",
              "    <g>\n",
              "        <path d=\"M19 3H5c-1.1 0-2 .9-2 2v14c0 1.1.9 2 2 2h14c1.1 0 2-.9 2-2V5c0-1.1-.9-2-2-2zM9 17H7v-7h2v7zm4 0h-2V7h2v10zm4 0h-2v-4h2v4z\"/>\n",
              "    </g>\n",
              "</svg>\n",
              "  </button>\n",
              "\n",
              "<style>\n",
              "  .colab-df-quickchart {\n",
              "      --bg-color: #E8F0FE;\n",
              "      --fill-color: #1967D2;\n",
              "      --hover-bg-color: #E2EBFA;\n",
              "      --hover-fill-color: #174EA6;\n",
              "      --disabled-fill-color: #AAA;\n",
              "      --disabled-bg-color: #DDD;\n",
              "  }\n",
              "\n",
              "  [theme=dark] .colab-df-quickchart {\n",
              "      --bg-color: #3B4455;\n",
              "      --fill-color: #D2E3FC;\n",
              "      --hover-bg-color: #434B5C;\n",
              "      --hover-fill-color: #FFFFFF;\n",
              "      --disabled-bg-color: #3B4455;\n",
              "      --disabled-fill-color: #666;\n",
              "  }\n",
              "\n",
              "  .colab-df-quickchart {\n",
              "    background-color: var(--bg-color);\n",
              "    border: none;\n",
              "    border-radius: 50%;\n",
              "    cursor: pointer;\n",
              "    display: none;\n",
              "    fill: var(--fill-color);\n",
              "    height: 32px;\n",
              "    padding: 0;\n",
              "    width: 32px;\n",
              "  }\n",
              "\n",
              "  .colab-df-quickchart:hover {\n",
              "    background-color: var(--hover-bg-color);\n",
              "    box-shadow: 0 1px 2px rgba(60, 64, 67, 0.3), 0 1px 3px 1px rgba(60, 64, 67, 0.15);\n",
              "    fill: var(--button-hover-fill-color);\n",
              "  }\n",
              "\n",
              "  .colab-df-quickchart-complete:disabled,\n",
              "  .colab-df-quickchart-complete:disabled:hover {\n",
              "    background-color: var(--disabled-bg-color);\n",
              "    fill: var(--disabled-fill-color);\n",
              "    box-shadow: none;\n",
              "  }\n",
              "\n",
              "  .colab-df-spinner {\n",
              "    border: 2px solid var(--fill-color);\n",
              "    border-color: transparent;\n",
              "    border-bottom-color: var(--fill-color);\n",
              "    animation:\n",
              "      spin 1s steps(1) infinite;\n",
              "  }\n",
              "\n",
              "  @keyframes spin {\n",
              "    0% {\n",
              "      border-color: transparent;\n",
              "      border-bottom-color: var(--fill-color);\n",
              "      border-left-color: var(--fill-color);\n",
              "    }\n",
              "    20% {\n",
              "      border-color: transparent;\n",
              "      border-left-color: var(--fill-color);\n",
              "      border-top-color: var(--fill-color);\n",
              "    }\n",
              "    30% {\n",
              "      border-color: transparent;\n",
              "      border-left-color: var(--fill-color);\n",
              "      border-top-color: var(--fill-color);\n",
              "      border-right-color: var(--fill-color);\n",
              "    }\n",
              "    40% {\n",
              "      border-color: transparent;\n",
              "      border-right-color: var(--fill-color);\n",
              "      border-top-color: var(--fill-color);\n",
              "    }\n",
              "    60% {\n",
              "      border-color: transparent;\n",
              "      border-right-color: var(--fill-color);\n",
              "    }\n",
              "    80% {\n",
              "      border-color: transparent;\n",
              "      border-right-color: var(--fill-color);\n",
              "      border-bottom-color: var(--fill-color);\n",
              "    }\n",
              "    90% {\n",
              "      border-color: transparent;\n",
              "      border-bottom-color: var(--fill-color);\n",
              "    }\n",
              "  }\n",
              "</style>\n",
              "\n",
              "  <script>\n",
              "    async function quickchart(key) {\n",
              "      const quickchartButtonEl =\n",
              "        document.querySelector('#' + key + ' button');\n",
              "      quickchartButtonEl.disabled = true;  // To prevent multiple clicks.\n",
              "      quickchartButtonEl.classList.add('colab-df-spinner');\n",
              "      try {\n",
              "        const charts = await google.colab.kernel.invokeFunction(\n",
              "            'suggestCharts', [key], {});\n",
              "      } catch (error) {\n",
              "        console.error('Error during call to suggestCharts:', error);\n",
              "      }\n",
              "      quickchartButtonEl.classList.remove('colab-df-spinner');\n",
              "      quickchartButtonEl.classList.add('colab-df-quickchart-complete');\n",
              "    }\n",
              "    (() => {\n",
              "      let quickchartButtonEl =\n",
              "        document.querySelector('#df-14d1400f-284b-4aec-a7da-78caecf864e8 button');\n",
              "      quickchartButtonEl.style.display =\n",
              "        google.colab.kernel.accessAllowed ? 'block' : 'none';\n",
              "    })();\n",
              "  </script>\n",
              "</div>\n",
              "    </div>\n",
              "  </div>\n"
            ]
          },
          "metadata": {},
          "execution_count": 33
        }
      ],
      "source": [
        "from sklearn.preprocessing import MinMaxScaler, StandardScaler\n",
        "scaler = StandardScaler()#MinMaxScaler()##MinMaxScaler()##MinMaxScaler()\n",
        "# Apply scaler() to all the columns except the 'yes-no' and 'dummy' variables\n",
        "num_varsa= ['area', 'bedrooms', 'bathrooms', 'stories', 'parking']\n",
        "\n",
        "df_train[num_varsa] = scaler.fit_transform(df_train[num_varsa])\n",
        "df_train.head()"
      ]
    },
    {
      "cell_type": "code",
      "execution_count": 34,
      "metadata": {
        "colab": {
          "base_uri": "https://localhost:8080/",
          "height": 206
        },
        "id": "q10TtAZmEyKH",
        "outputId": "d7b7d3eb-b736-4ebc-f311-7ead9f031070"
      },
      "outputs": [
        {
          "output_type": "execute_result",
          "data": {
            "text/plain": [
              "       price      area  bedrooms  bathrooms   stories  mainroad  guestroom  \\\n",
              "265  4403000 -1.020953 -0.072023  -0.531775  0.308415         1          0   \n",
              "54   7350000  0.369177 -0.072023   1.466964  0.308415         1          1   \n",
              "171  5250000  2.271249 -0.072023  -0.531775 -0.936669         1          0   \n",
              "244  4550000  0.066200 -0.072023  -0.531775  0.308415         1          1   \n",
              "268  4382000 -0.098656  1.236396  -0.531775  0.308415         1          0   \n",
              "\n",
              "     basement  hotwaterheating  airconditioning   parking  prefarea  \\\n",
              "265         0                0                0 -0.643743         1   \n",
              "54          0                0                1  0.545545         0   \n",
              "171         0                0                0  0.545545         1   \n",
              "244         1                0                0 -0.643743         1   \n",
              "268         0                0                1 -0.643743         0   \n",
              "\n",
              "    furnishingstatus  \n",
              "265   semi-furnished  \n",
              "54    semi-furnished  \n",
              "171   semi-furnished  \n",
              "244   semi-furnished  \n",
              "268   semi-furnished  "
            ],
            "text/html": [
              "\n",
              "  <div id=\"df-729d886f-b560-4ecd-a9be-f3298a7491c3\" class=\"colab-df-container\">\n",
              "    <div>\n",
              "<style scoped>\n",
              "    .dataframe tbody tr th:only-of-type {\n",
              "        vertical-align: middle;\n",
              "    }\n",
              "\n",
              "    .dataframe tbody tr th {\n",
              "        vertical-align: top;\n",
              "    }\n",
              "\n",
              "    .dataframe thead th {\n",
              "        text-align: right;\n",
              "    }\n",
              "</style>\n",
              "<table border=\"1\" class=\"dataframe\">\n",
              "  <thead>\n",
              "    <tr style=\"text-align: right;\">\n",
              "      <th></th>\n",
              "      <th>price</th>\n",
              "      <th>area</th>\n",
              "      <th>bedrooms</th>\n",
              "      <th>bathrooms</th>\n",
              "      <th>stories</th>\n",
              "      <th>mainroad</th>\n",
              "      <th>guestroom</th>\n",
              "      <th>basement</th>\n",
              "      <th>hotwaterheating</th>\n",
              "      <th>airconditioning</th>\n",
              "      <th>parking</th>\n",
              "      <th>prefarea</th>\n",
              "      <th>furnishingstatus</th>\n",
              "    </tr>\n",
              "  </thead>\n",
              "  <tbody>\n",
              "    <tr>\n",
              "      <th>265</th>\n",
              "      <td>4403000</td>\n",
              "      <td>-1.020953</td>\n",
              "      <td>-0.072023</td>\n",
              "      <td>-0.531775</td>\n",
              "      <td>0.308415</td>\n",
              "      <td>1</td>\n",
              "      <td>0</td>\n",
              "      <td>0</td>\n",
              "      <td>0</td>\n",
              "      <td>0</td>\n",
              "      <td>-0.643743</td>\n",
              "      <td>1</td>\n",
              "      <td>semi-furnished</td>\n",
              "    </tr>\n",
              "    <tr>\n",
              "      <th>54</th>\n",
              "      <td>7350000</td>\n",
              "      <td>0.369177</td>\n",
              "      <td>-0.072023</td>\n",
              "      <td>1.466964</td>\n",
              "      <td>0.308415</td>\n",
              "      <td>1</td>\n",
              "      <td>1</td>\n",
              "      <td>0</td>\n",
              "      <td>0</td>\n",
              "      <td>1</td>\n",
              "      <td>0.545545</td>\n",
              "      <td>0</td>\n",
              "      <td>semi-furnished</td>\n",
              "    </tr>\n",
              "    <tr>\n",
              "      <th>171</th>\n",
              "      <td>5250000</td>\n",
              "      <td>2.271249</td>\n",
              "      <td>-0.072023</td>\n",
              "      <td>-0.531775</td>\n",
              "      <td>-0.936669</td>\n",
              "      <td>1</td>\n",
              "      <td>0</td>\n",
              "      <td>0</td>\n",
              "      <td>0</td>\n",
              "      <td>0</td>\n",
              "      <td>0.545545</td>\n",
              "      <td>1</td>\n",
              "      <td>semi-furnished</td>\n",
              "    </tr>\n",
              "    <tr>\n",
              "      <th>244</th>\n",
              "      <td>4550000</td>\n",
              "      <td>0.066200</td>\n",
              "      <td>-0.072023</td>\n",
              "      <td>-0.531775</td>\n",
              "      <td>0.308415</td>\n",
              "      <td>1</td>\n",
              "      <td>1</td>\n",
              "      <td>1</td>\n",
              "      <td>0</td>\n",
              "      <td>0</td>\n",
              "      <td>-0.643743</td>\n",
              "      <td>1</td>\n",
              "      <td>semi-furnished</td>\n",
              "    </tr>\n",
              "    <tr>\n",
              "      <th>268</th>\n",
              "      <td>4382000</td>\n",
              "      <td>-0.098656</td>\n",
              "      <td>1.236396</td>\n",
              "      <td>-0.531775</td>\n",
              "      <td>0.308415</td>\n",
              "      <td>1</td>\n",
              "      <td>0</td>\n",
              "      <td>0</td>\n",
              "      <td>0</td>\n",
              "      <td>1</td>\n",
              "      <td>-0.643743</td>\n",
              "      <td>0</td>\n",
              "      <td>semi-furnished</td>\n",
              "    </tr>\n",
              "  </tbody>\n",
              "</table>\n",
              "</div>\n",
              "    <div class=\"colab-df-buttons\">\n",
              "\n",
              "  <div class=\"colab-df-container\">\n",
              "    <button class=\"colab-df-convert\" onclick=\"convertToInteractive('df-729d886f-b560-4ecd-a9be-f3298a7491c3')\"\n",
              "            title=\"Convert this dataframe to an interactive table.\"\n",
              "            style=\"display:none;\">\n",
              "\n",
              "  <svg xmlns=\"http://www.w3.org/2000/svg\" height=\"24px\" viewBox=\"0 -960 960 960\">\n",
              "    <path d=\"M120-120v-720h720v720H120Zm60-500h600v-160H180v160Zm220 220h160v-160H400v160Zm0 220h160v-160H400v160ZM180-400h160v-160H180v160Zm440 0h160v-160H620v160ZM180-180h160v-160H180v160Zm440 0h160v-160H620v160Z\"/>\n",
              "  </svg>\n",
              "    </button>\n",
              "\n",
              "  <style>\n",
              "    .colab-df-container {\n",
              "      display:flex;\n",
              "      gap: 12px;\n",
              "    }\n",
              "\n",
              "    .colab-df-convert {\n",
              "      background-color: #E8F0FE;\n",
              "      border: none;\n",
              "      border-radius: 50%;\n",
              "      cursor: pointer;\n",
              "      display: none;\n",
              "      fill: #1967D2;\n",
              "      height: 32px;\n",
              "      padding: 0 0 0 0;\n",
              "      width: 32px;\n",
              "    }\n",
              "\n",
              "    .colab-df-convert:hover {\n",
              "      background-color: #E2EBFA;\n",
              "      box-shadow: 0px 1px 2px rgba(60, 64, 67, 0.3), 0px 1px 3px 1px rgba(60, 64, 67, 0.15);\n",
              "      fill: #174EA6;\n",
              "    }\n",
              "\n",
              "    .colab-df-buttons div {\n",
              "      margin-bottom: 4px;\n",
              "    }\n",
              "\n",
              "    [theme=dark] .colab-df-convert {\n",
              "      background-color: #3B4455;\n",
              "      fill: #D2E3FC;\n",
              "    }\n",
              "\n",
              "    [theme=dark] .colab-df-convert:hover {\n",
              "      background-color: #434B5C;\n",
              "      box-shadow: 0px 1px 3px 1px rgba(0, 0, 0, 0.15);\n",
              "      filter: drop-shadow(0px 1px 2px rgba(0, 0, 0, 0.3));\n",
              "      fill: #FFFFFF;\n",
              "    }\n",
              "  </style>\n",
              "\n",
              "    <script>\n",
              "      const buttonEl =\n",
              "        document.querySelector('#df-729d886f-b560-4ecd-a9be-f3298a7491c3 button.colab-df-convert');\n",
              "      buttonEl.style.display =\n",
              "        google.colab.kernel.accessAllowed ? 'block' : 'none';\n",
              "\n",
              "      async function convertToInteractive(key) {\n",
              "        const element = document.querySelector('#df-729d886f-b560-4ecd-a9be-f3298a7491c3');\n",
              "        const dataTable =\n",
              "          await google.colab.kernel.invokeFunction('convertToInteractive',\n",
              "                                                    [key], {});\n",
              "        if (!dataTable) return;\n",
              "\n",
              "        const docLinkHtml = 'Like what you see? Visit the ' +\n",
              "          '<a target=\"_blank\" href=https://colab.research.google.com/notebooks/data_table.ipynb>data table notebook</a>'\n",
              "          + ' to learn more about interactive tables.';\n",
              "        element.innerHTML = '';\n",
              "        dataTable['output_type'] = 'display_data';\n",
              "        await google.colab.output.renderOutput(dataTable, element);\n",
              "        const docLink = document.createElement('div');\n",
              "        docLink.innerHTML = docLinkHtml;\n",
              "        element.appendChild(docLink);\n",
              "      }\n",
              "    </script>\n",
              "  </div>\n",
              "\n",
              "\n",
              "<div id=\"df-174f4fd9-47c8-4590-bea2-b16a55654873\">\n",
              "  <button class=\"colab-df-quickchart\" onclick=\"quickchart('df-174f4fd9-47c8-4590-bea2-b16a55654873')\"\n",
              "            title=\"Suggest charts.\"\n",
              "            style=\"display:none;\">\n",
              "\n",
              "<svg xmlns=\"http://www.w3.org/2000/svg\" height=\"24px\"viewBox=\"0 0 24 24\"\n",
              "     width=\"24px\">\n",
              "    <g>\n",
              "        <path d=\"M19 3H5c-1.1 0-2 .9-2 2v14c0 1.1.9 2 2 2h14c1.1 0 2-.9 2-2V5c0-1.1-.9-2-2-2zM9 17H7v-7h2v7zm4 0h-2V7h2v10zm4 0h-2v-4h2v4z\"/>\n",
              "    </g>\n",
              "</svg>\n",
              "  </button>\n",
              "\n",
              "<style>\n",
              "  .colab-df-quickchart {\n",
              "      --bg-color: #E8F0FE;\n",
              "      --fill-color: #1967D2;\n",
              "      --hover-bg-color: #E2EBFA;\n",
              "      --hover-fill-color: #174EA6;\n",
              "      --disabled-fill-color: #AAA;\n",
              "      --disabled-bg-color: #DDD;\n",
              "  }\n",
              "\n",
              "  [theme=dark] .colab-df-quickchart {\n",
              "      --bg-color: #3B4455;\n",
              "      --fill-color: #D2E3FC;\n",
              "      --hover-bg-color: #434B5C;\n",
              "      --hover-fill-color: #FFFFFF;\n",
              "      --disabled-bg-color: #3B4455;\n",
              "      --disabled-fill-color: #666;\n",
              "  }\n",
              "\n",
              "  .colab-df-quickchart {\n",
              "    background-color: var(--bg-color);\n",
              "    border: none;\n",
              "    border-radius: 50%;\n",
              "    cursor: pointer;\n",
              "    display: none;\n",
              "    fill: var(--fill-color);\n",
              "    height: 32px;\n",
              "    padding: 0;\n",
              "    width: 32px;\n",
              "  }\n",
              "\n",
              "  .colab-df-quickchart:hover {\n",
              "    background-color: var(--hover-bg-color);\n",
              "    box-shadow: 0 1px 2px rgba(60, 64, 67, 0.3), 0 1px 3px 1px rgba(60, 64, 67, 0.15);\n",
              "    fill: var(--button-hover-fill-color);\n",
              "  }\n",
              "\n",
              "  .colab-df-quickchart-complete:disabled,\n",
              "  .colab-df-quickchart-complete:disabled:hover {\n",
              "    background-color: var(--disabled-bg-color);\n",
              "    fill: var(--disabled-fill-color);\n",
              "    box-shadow: none;\n",
              "  }\n",
              "\n",
              "  .colab-df-spinner {\n",
              "    border: 2px solid var(--fill-color);\n",
              "    border-color: transparent;\n",
              "    border-bottom-color: var(--fill-color);\n",
              "    animation:\n",
              "      spin 1s steps(1) infinite;\n",
              "  }\n",
              "\n",
              "  @keyframes spin {\n",
              "    0% {\n",
              "      border-color: transparent;\n",
              "      border-bottom-color: var(--fill-color);\n",
              "      border-left-color: var(--fill-color);\n",
              "    }\n",
              "    20% {\n",
              "      border-color: transparent;\n",
              "      border-left-color: var(--fill-color);\n",
              "      border-top-color: var(--fill-color);\n",
              "    }\n",
              "    30% {\n",
              "      border-color: transparent;\n",
              "      border-left-color: var(--fill-color);\n",
              "      border-top-color: var(--fill-color);\n",
              "      border-right-color: var(--fill-color);\n",
              "    }\n",
              "    40% {\n",
              "      border-color: transparent;\n",
              "      border-right-color: var(--fill-color);\n",
              "      border-top-color: var(--fill-color);\n",
              "    }\n",
              "    60% {\n",
              "      border-color: transparent;\n",
              "      border-right-color: var(--fill-color);\n",
              "    }\n",
              "    80% {\n",
              "      border-color: transparent;\n",
              "      border-right-color: var(--fill-color);\n",
              "      border-bottom-color: var(--fill-color);\n",
              "    }\n",
              "    90% {\n",
              "      border-color: transparent;\n",
              "      border-bottom-color: var(--fill-color);\n",
              "    }\n",
              "  }\n",
              "</style>\n",
              "\n",
              "  <script>\n",
              "    async function quickchart(key) {\n",
              "      const quickchartButtonEl =\n",
              "        document.querySelector('#' + key + ' button');\n",
              "      quickchartButtonEl.disabled = true;  // To prevent multiple clicks.\n",
              "      quickchartButtonEl.classList.add('colab-df-spinner');\n",
              "      try {\n",
              "        const charts = await google.colab.kernel.invokeFunction(\n",
              "            'suggestCharts', [key], {});\n",
              "      } catch (error) {\n",
              "        console.error('Error during call to suggestCharts:', error);\n",
              "      }\n",
              "      quickchartButtonEl.classList.remove('colab-df-spinner');\n",
              "      quickchartButtonEl.classList.add('colab-df-quickchart-complete');\n",
              "    }\n",
              "    (() => {\n",
              "      let quickchartButtonEl =\n",
              "        document.querySelector('#df-174f4fd9-47c8-4590-bea2-b16a55654873 button');\n",
              "      quickchartButtonEl.style.display =\n",
              "        google.colab.kernel.accessAllowed ? 'block' : 'none';\n",
              "    })();\n",
              "  </script>\n",
              "</div>\n",
              "    </div>\n",
              "  </div>\n"
            ]
          },
          "metadata": {},
          "execution_count": 34
        }
      ],
      "source": [
        "df_test[num_varsa] = scaler.fit_transform(df_test[num_varsa])\n",
        "df_test.head()"
      ]
    },
    {
      "cell_type": "code",
      "execution_count": 35,
      "metadata": {
        "id": "MHpsuKgbE1Bh"
      },
      "outputs": [],
      "source": [
        "# Separate features and labels\n",
        "y_train2a= df_train['price'].values  # get input values from first column -- X is a list here\n",
        "x_train2a = df_train[num_varsa].values[:, (0,1,2,3,4)]  # get output values from second column -- Y is the list here\n",
        "m_train2a = len(y_train2a)  # Number of training examples\n",
        "n_train2a = len(x_train2a)  # Number of training examples"
      ]
    },
    {
      "cell_type": "code",
      "execution_count": 36,
      "metadata": {
        "colab": {
          "base_uri": "https://localhost:8080/"
        },
        "id": "aPVjlyfVFXQv",
        "outputId": "304b6d55-662d-4fcf-9f98-8b95406d0b3b"
      },
      "outputs": [
        {
          "output_type": "stream",
          "name": "stdout",
          "text": [
            "X =  [[ 1.35187274  0.07867901 -0.57989658 -0.92902305  0.31148433]\n",
            " [ 0.56532627  0.07867901  1.41092949  2.4747925  -0.8492607 ]\n",
            " [ 0.746837   -1.29348292 -0.57989658 -0.92902305  1.47222936]\n",
            " [ 0.593251    0.07867901 -0.57989658 -0.92902305 -0.8492607 ]\n",
            " [-0.7052488   1.45084094 -0.57989658  0.20558213  2.6329744 ]]\n",
            "y =  [8645000 7840000 6419000 5950000 3010000]\n",
            "m =  436\n",
            "n =  436\n"
          ]
        }
      ],
      "source": [
        "print('X = ', x_train2a[: 5])\n",
        "print('y = ', y_train2a[: 5])\n",
        "print('m = ', m_train2a)\n",
        "print('n = ', n_train2a)"
      ]
    },
    {
      "cell_type": "code",
      "execution_count": 37,
      "metadata": {
        "id": "wv7Rsfy5FkKq"
      },
      "outputs": [],
      "source": [
        "# Separate features and labels\n",
        "y_test2a= df_test['price'].values  # get input values from first column -- X is a list here\n",
        "x_test2a = df_test[num_varsa].values[:, (0,1,2,3,4)]  # get output values from second column -- Y is the list here\n",
        "m_test2a = len(y_test2a)  # Number of training examples\n",
        "n_test2a = len(x_test2a)  # Number of training examples"
      ]
    },
    {
      "cell_type": "code",
      "execution_count": 38,
      "metadata": {
        "colab": {
          "base_uri": "https://localhost:8080/"
        },
        "id": "EgHyVLvSFyKw",
        "outputId": "567b435f-5c0d-4d07-996c-9975dc2f29c5"
      },
      "outputs": [
        {
          "output_type": "stream",
          "name": "stdout",
          "text": [
            "X =  [[-1.02095327 -0.07202305 -0.53177451  0.30841537 -0.64374278]\n",
            " [ 0.3691766  -0.07202305  1.46696416  0.30841537  0.54554473]\n",
            " [ 2.27124853 -0.07202305 -0.53177451 -0.93666891  0.54554473]\n",
            " [ 0.06619958 -0.07202305 -0.53177451  0.30841537 -0.64374278]\n",
            " [-0.09865556  1.23639571 -0.53177451  0.30841537 -0.64374278]]\n",
            "y =  [4403000 7350000 5250000 4550000 4382000]\n",
            "m =  109\n",
            "n =  109\n"
          ]
        }
      ],
      "source": [
        "print('X = ', x_test2a[: 5])\n",
        "print('y = ', y_test2a[: 5])\n",
        "print('m = ', m_test2a)\n",
        "print('n = ', n_test2a)"
      ]
    },
    {
      "cell_type": "code",
      "execution_count": 39,
      "metadata": {
        "colab": {
          "base_uri": "https://localhost:8080/"
        },
        "id": "4gCedKnRF6gO",
        "outputId": "6bc7ca68-87d7-41c5-f5f9-12cdf960d99e"
      },
      "outputs": [
        {
          "output_type": "execute_result",
          "data": {
            "text/plain": [
              "array([[1.],\n",
              "       [1.],\n",
              "       [1.],\n",
              "       [1.],\n",
              "       [1.]])"
            ]
          },
          "metadata": {},
          "execution_count": 39
        }
      ],
      "source": [
        "#80 percent of 545 = 436. 20% = 109\n",
        "\n",
        "X_02a = np.ones((m_train2a, 1))\n",
        "X_0t2a = np.ones((m_test2a, 1))\n",
        "X_02a[:5]\n",
        "X_0t2a[:5]"
      ]
    },
    {
      "cell_type": "code",
      "execution_count": 40,
      "metadata": {
        "colab": {
          "base_uri": "https://localhost:8080/"
        },
        "id": "3m-Y8HGEGBiQ",
        "outputId": "645bf2eb-2a34-4ddd-f527-73cffdc50744"
      },
      "outputs": [
        {
          "output_type": "execute_result",
          "data": {
            "text/plain": [
              "array([[ 1.35187274,  0.07867901, -0.57989658, -0.92902305,  0.31148433],\n",
              "       [ 0.56532627,  0.07867901,  1.41092949,  2.4747925 , -0.8492607 ],\n",
              "       [ 0.746837  , -1.29348292, -0.57989658, -0.92902305,  1.47222936],\n",
              "       [ 0.593251  ,  0.07867901, -0.57989658, -0.92902305, -0.8492607 ],\n",
              "       [-0.7052488 ,  1.45084094, -0.57989658,  0.20558213,  2.6329744 ],\n",
              "       [-0.60285813, -1.29348292, -0.57989658, -0.92902305, -0.8492607 ],\n",
              "       [ 1.77539777,  1.45084094,  5.39258163,  2.4747925 ,  2.6329744 ],\n",
              "       [ 1.44495517,  0.07867901, -0.57989658, -0.92902305, -0.8492607 ],\n",
              "       [-0.99845843,  0.07867901,  1.41092949,  0.20558213, -0.8492607 ],\n",
              "       [-0.51815313, -1.29348292, -0.57989658, -0.92902305, -0.8492607 ]])"
            ]
          },
          "metadata": {},
          "execution_count": 40
        }
      ],
      "source": [
        "X_12a = x_train2a.reshape(m_train2a, 5)\n",
        "X_12a[:10]"
      ]
    },
    {
      "cell_type": "code",
      "execution_count": 41,
      "metadata": {
        "colab": {
          "base_uri": "https://localhost:8080/"
        },
        "id": "JySJPonCGFlW",
        "outputId": "2d2d66fa-1659-42ae-eb19-7b71860c099b"
      },
      "outputs": [
        {
          "output_type": "execute_result",
          "data": {
            "text/plain": [
              "array([[-1.02095327, -0.07202305, -0.53177451,  0.30841537, -0.64374278],\n",
              "       [ 0.3691766 , -0.07202305,  1.46696416,  0.30841537,  0.54554473],\n",
              "       [ 2.27124853, -0.07202305, -0.53177451, -0.93666891,  0.54554473],\n",
              "       [ 0.06619958, -0.07202305, -0.53177451,  0.30841537, -0.64374278],\n",
              "       [-0.09865556,  1.23639571, -0.53177451,  0.30841537, -0.64374278],\n",
              "       [-0.37935486, -0.07202305, -0.53177451, -0.93666891, -0.64374278],\n",
              "       [ 0.609776  ,  1.23639571,  1.46696416,  0.30841537,  1.73483223],\n",
              "       [ 0.609776  ,  1.23639571,  1.46696416,  0.30841537, -0.64374278],\n",
              "       [ 0.72562016, -1.38044181, -0.53177451, -0.93666891, -0.64374278],\n",
              "       [ 0.609776  , -0.07202305, -0.53177451, -0.93666891,  1.73483223]])"
            ]
          },
          "metadata": {},
          "execution_count": 41
        }
      ],
      "source": [
        "X_1t2a = x_test2a.reshape(m_test2a, 5)\n",
        "X_1t2a[:10]"
      ]
    },
    {
      "cell_type": "code",
      "execution_count": 42,
      "metadata": {
        "colab": {
          "base_uri": "https://localhost:8080/"
        },
        "id": "97HK155EGLPh",
        "outputId": "06a4f31b-2c84-4a58-db92-51d62987ee9f"
      },
      "outputs": [
        {
          "output_type": "execute_result",
          "data": {
            "text/plain": [
              "array([[ 1.        ,  1.35187274,  0.07867901, -0.57989658, -0.92902305,\n",
              "         0.31148433],\n",
              "       [ 1.        ,  0.56532627,  0.07867901,  1.41092949,  2.4747925 ,\n",
              "        -0.8492607 ],\n",
              "       [ 1.        ,  0.746837  , -1.29348292, -0.57989658, -0.92902305,\n",
              "         1.47222936],\n",
              "       [ 1.        ,  0.593251  ,  0.07867901, -0.57989658, -0.92902305,\n",
              "        -0.8492607 ],\n",
              "       [ 1.        , -0.7052488 ,  1.45084094, -0.57989658,  0.20558213,\n",
              "         2.6329744 ]])"
            ]
          },
          "metadata": {},
          "execution_count": 42
        }
      ],
      "source": [
        "x_train2a = np.hstack((X_02a, X_12a))\n",
        "x_train2a[:5]"
      ]
    },
    {
      "cell_type": "code",
      "execution_count": 43,
      "metadata": {
        "colab": {
          "base_uri": "https://localhost:8080/"
        },
        "id": "zF9cLBMOGQNj",
        "outputId": "c59f9625-c8e0-44bd-d541-9cf9e25bfd80"
      },
      "outputs": [
        {
          "output_type": "execute_result",
          "data": {
            "text/plain": [
              "array([[ 1.        , -1.02095327, -0.07202305, -0.53177451,  0.30841537,\n",
              "        -0.64374278],\n",
              "       [ 1.        ,  0.3691766 , -0.07202305,  1.46696416,  0.30841537,\n",
              "         0.54554473],\n",
              "       [ 1.        ,  2.27124853, -0.07202305, -0.53177451, -0.93666891,\n",
              "         0.54554473],\n",
              "       [ 1.        ,  0.06619958, -0.07202305, -0.53177451,  0.30841537,\n",
              "        -0.64374278],\n",
              "       [ 1.        , -0.09865556,  1.23639571, -0.53177451,  0.30841537,\n",
              "        -0.64374278]])"
            ]
          },
          "metadata": {},
          "execution_count": 43
        }
      ],
      "source": [
        "x_test2a = np.hstack((X_0t2a, X_1t2a))\n",
        "x_test2a[:5]"
      ]
    },
    {
      "cell_type": "code",
      "execution_count": 44,
      "metadata": {
        "id": "8dyW3QJdGUK0"
      },
      "outputs": [],
      "source": [
        "theta2a = np.zeros(6)"
      ]
    },
    {
      "cell_type": "code",
      "execution_count": 45,
      "metadata": {
        "id": "-Iw05C6-GVpu"
      },
      "outputs": [],
      "source": [
        "iterations2a = 1500\n",
        "alpha2a = 0.01"
      ]
    },
    {
      "cell_type": "code",
      "execution_count": 46,
      "metadata": {
        "colab": {
          "base_uri": "https://localhost:8080/"
        },
        "id": "PcNFMScVGZR9",
        "outputId": "645bb5e6-c3ff-4c6d-c550-d27b673b94f1"
      },
      "outputs": [
        {
          "output_type": "stream",
          "name": "stdout",
          "text": [
            "Final value of theta = [4795729.22018316  729932.3572104    79334.75241901  641264.73546138\n",
            "  463855.85935051  287331.20855395]\n",
            "cost_history = [2.54329771e+13 2.44340072e+13 2.34785618e+13 ... 1.52206968e+12\n",
            " 1.52206968e+12 1.52206968e+12] [2.41295342e+13 2.31464665e+13 2.22073654e+13 ... 1.60988456e+12\n",
            " 1.60988456e+12 1.60988456e+12]\n"
          ]
        }
      ],
      "source": [
        "theta2a, cost_history_train, cost_history_test = gradient_descent(x_train2a, x_test2a, y_train2a, y_test2a, theta2a, alpha2a, iterations2a)\n",
        "print('Final value of theta =', theta2a)\n",
        "print('cost_history =', cost_history_train, cost_history_test)"
      ]
    },
    {
      "cell_type": "code",
      "execution_count": 47,
      "metadata": {
        "colab": {
          "base_uri": "https://localhost:8080/",
          "height": 472
        },
        "id": "55KJ7IQsH6Mz",
        "outputId": "fc0ccbac-003e-43c4-97b8-56e257d0073d"
      },
      "outputs": [
        {
          "output_type": "display_data",
          "data": {
            "text/plain": [
              "<Figure size 640x480 with 1 Axes>"
            ],
            "image/png": "[encoded data removed]"
          },
          "metadata": {}
        }
      ],
      "source": [
        "plt.plot(cost_history_train, label=\"Training Loss\")\n",
        "plt.plot(cost_history_test, label=\"Validation Loss\")\n",
        "plt.xlabel(\"Iteration\")\n",
        "plt.ylabel(\"Mean Squared Error\")\n",
        "plt.legend()\n",
        "plt.title(\"Training and Validation Loss Over Iterations\")\n",
        "plt.show()"
      ]
    },
    {
      "cell_type": "markdown",
      "metadata": {
        "id": "hNMgLTStIjza"
      },
      "source": [
        "Problem 2b"
      ]
    },
    {
      "cell_type": "code",
      "execution_count": 48,
      "metadata": {
        "colab": {
          "base_uri": "https://localhost:8080/",
          "height": 206
        },
        "id": "r7hKuYcEAn2a",
        "outputId": "eb14ac45-513e-4143-b4fc-e62f79466436"
      },
      "outputs": [
        {
          "output_type": "execute_result",
          "data": {
            "text/plain": [
              "        price      area  bedrooms  bathrooms   stories  mainroad  guestroom  \\\n",
              "22   0.596970  0.432609       0.4   0.000000  0.000000       1.0        1.0   \n",
              "41   0.527273  0.314954       0.4   0.333333  1.000000       1.0        0.0   \n",
              "91   0.404242  0.342105       0.2   0.000000  0.000000       1.0        1.0   \n",
              "118  0.363636  0.319131       0.4   0.000000  0.000000       1.0        0.0   \n",
              "472  0.109091  0.124896       0.6   0.000000  0.333333       1.0        0.0   \n",
              "\n",
              "     basement  hotwaterheating  airconditioning   parking  prefarea  \\\n",
              "22        1.0              0.0              1.0  0.333333       0.0   \n",
              "41        0.0              0.0              1.0  0.000000       1.0   \n",
              "91        1.0              0.0              0.0  0.666667       1.0   \n",
              "118       1.0              0.0              1.0  0.000000       1.0   \n",
              "472       0.0              0.0              0.0  1.000000       0.0   \n",
              "\n",
              "    furnishingstatus  \n",
              "22         furnished  \n",
              "41         furnished  \n",
              "91         furnished  \n",
              "118        furnished  \n",
              "472   semi-furnished  "
            ],
            "text/html": [
              "\n",
              "  <div id=\"df-f79a7a71-222e-46a0-97f2-ba026abaf647\" class=\"colab-df-container\">\n",
              "    <div>\n",
              "<style scoped>\n",
              "    .dataframe tbody tr th:only-of-type {\n",
              "        vertical-align: middle;\n",
              "    }\n",
              "\n",
              "    .dataframe tbody tr th {\n",
              "        vertical-align: top;\n",
              "    }\n",
              "\n",
              "    .dataframe thead th {\n",
              "        text-align: right;\n",
              "    }\n",
              "</style>\n",
              "<table border=\"1\" class=\"dataframe\">\n",
              "  <thead>\n",
              "    <tr style=\"text-align: right;\">\n",
              "      <th></th>\n",
              "      <th>price</th>\n",
              "      <th>area</th>\n",
              "      <th>bedrooms</th>\n",
              "      <th>bathrooms</th>\n",
              "      <th>stories</th>\n",
              "      <th>mainroad</th>\n",
              "      <th>guestroom</th>\n",
              "      <th>basement</th>\n",
              "      <th>hotwaterheating</th>\n",
              "      <th>airconditioning</th>\n",
              "      <th>parking</th>\n",
              "      <th>prefarea</th>\n",
              "      <th>furnishingstatus</th>\n",
              "    </tr>\n",
              "  </thead>\n",
              "  <tbody>\n",
              "    <tr>\n",
              "      <th>22</th>\n",
              "      <td>0.596970</td>\n",
              "      <td>0.432609</td>\n",
              "      <td>0.4</td>\n",
              "      <td>0.000000</td>\n",
              "      <td>0.000000</td>\n",
              "      <td>1.0</td>\n",
              "      <td>1.0</td>\n",
              "      <td>1.0</td>\n",
              "      <td>0.0</td>\n",
              "      <td>1.0</td>\n",
              "      <td>0.333333</td>\n",
              "      <td>0.0</td>\n",
              "      <td>furnished</td>\n",
              "    </tr>\n",
              "    <tr>\n",
              "      <th>41</th>\n",
              "      <td>0.527273</td>\n",
              "      <td>0.314954</td>\n",
              "      <td>0.4</td>\n",
              "      <td>0.333333</td>\n",
              "      <td>1.000000</td>\n",
              "      <td>1.0</td>\n",
              "      <td>0.0</td>\n",
              "      <td>0.0</td>\n",
              "      <td>0.0</td>\n",
              "      <td>1.0</td>\n",
              "      <td>0.000000</td>\n",
              "      <td>1.0</td>\n",
              "      <td>furnished</td>\n",
              "    </tr>\n",
              "    <tr>\n",
              "      <th>91</th>\n",
              "      <td>0.404242</td>\n",
              "      <td>0.342105</td>\n",
              "      <td>0.2</td>\n",
              "      <td>0.000000</td>\n",
              "      <td>0.000000</td>\n",
              "      <td>1.0</td>\n",
              "      <td>1.0</td>\n",
              "      <td>1.0</td>\n",
              "      <td>0.0</td>\n",
              "      <td>0.0</td>\n",
              "      <td>0.666667</td>\n",
              "      <td>1.0</td>\n",
              "      <td>furnished</td>\n",
              "    </tr>\n",
              "    <tr>\n",
              "      <th>118</th>\n",
              "      <td>0.363636</td>\n",
              "      <td>0.319131</td>\n",
              "      <td>0.4</td>\n",
              "      <td>0.000000</td>\n",
              "      <td>0.000000</td>\n",
              "      <td>1.0</td>\n",
              "      <td>0.0</td>\n",
              "      <td>1.0</td>\n",
              "      <td>0.0</td>\n",
              "      <td>1.0</td>\n",
              "      <td>0.000000</td>\n",
              "      <td>1.0</td>\n",
              "      <td>furnished</td>\n",
              "    </tr>\n",
              "    <tr>\n",
              "      <th>472</th>\n",
              "      <td>0.109091</td>\n",
              "      <td>0.124896</td>\n",
              "      <td>0.6</td>\n",
              "      <td>0.000000</td>\n",
              "      <td>0.333333</td>\n",
              "      <td>1.0</td>\n",
              "      <td>0.0</td>\n",
              "      <td>0.0</td>\n",
              "      <td>0.0</td>\n",
              "      <td>0.0</td>\n",
              "      <td>1.000000</td>\n",
              "      <td>0.0</td>\n",
              "      <td>semi-furnished</td>\n",
              "    </tr>\n",
              "  </tbody>\n",
              "</table>\n",
              "</div>\n",
              "    <div class=\"colab-df-buttons\">\n",
              "\n",
              "  <div class=\"colab-df-container\">\n",
              "    <button class=\"colab-df-convert\" onclick=\"convertToInteractive('df-f79a7a71-222e-46a0-97f2-ba026abaf647')\"\n",
              "            title=\"Convert this dataframe to an interactive table.\"\n",
              "            style=\"display:none;\">\n",
              "\n",
              "  <svg xmlns=\"http://www.w3.org/2000/svg\" height=\"24px\" viewBox=\"0 -960 960 960\">\n",
              "    <path d=\"M120-120v-720h720v720H120Zm60-500h600v-160H180v160Zm220 220h160v-160H400v160Zm0 220h160v-160H400v160ZM180-400h160v-160H180v160Zm440 0h160v-160H620v160ZM180-180h160v-160H180v160Zm440 0h160v-160H620v160Z\"/>\n",
              "  </svg>\n",
              "    </button>\n",
              "\n",
              "  <style>\n",
              "    .colab-df-container {\n",
              "      display:flex;\n",
              "      gap: 12px;\n",
              "    }\n",
              "\n",
              "    .colab-df-convert {\n",
              "      background-color: #E8F0FE;\n",
              "      border: none;\n",
              "      border-radius: 50%;\n",
              "      cursor: pointer;\n",
              "      display: none;\n",
              "      fill: #1967D2;\n",
              "      height: 32px;\n",
              "      padding: 0 0 0 0;\n",
              "      width: 32px;\n",
              "    }\n",
              "\n",
              "    .colab-df-convert:hover {\n",
              "      background-color: #E2EBFA;\n",
              "      box-shadow: 0px 1px 2px rgba(60, 64, 67, 0.3), 0px 1px 3px 1px rgba(60, 64, 67, 0.15);\n",
              "      fill: #174EA6;\n",
              "    }\n",
              "\n",
              "    .colab-df-buttons div {\n",
              "      margin-bottom: 4px;\n",
              "    }\n",
              "\n",
              "    [theme=dark] .colab-df-convert {\n",
              "      background-color: #3B4455;\n",
              "      fill: #D2E3FC;\n",
              "    }\n",
              "\n",
              "    [theme=dark] .colab-df-convert:hover {\n",
              "      background-color: #434B5C;\n",
              "      box-shadow: 0px 1px 3px 1px rgba(0, 0, 0, 0.15);\n",
              "      filter: drop-shadow(0px 1px 2px rgba(0, 0, 0, 0.3));\n",
              "      fill: #FFFFFF;\n",
              "    }\n",
              "  </style>\n",
              "\n",
              "    <script>\n",
              "      const buttonEl =\n",
              "        document.querySelector('#df-f79a7a71-222e-46a0-97f2-ba026abaf647 button.colab-df-convert');\n",
              "      buttonEl.style.display =\n",
              "        google.colab.kernel.accessAllowed ? 'block' : 'none';\n",
              "\n",
              "      async function convertToInteractive(key) {\n",
              "        const element = document.querySelector('#df-f79a7a71-222e-46a0-97f2-ba026abaf647');\n",
              "        const dataTable =\n",
              "          await google.colab.kernel.invokeFunction('convertToInteractive',\n",
              "                                                    [key], {});\n",
              "        if (!dataTable) return;\n",
              "\n",
              "        const docLinkHtml = 'Like what you see? Visit the ' +\n",
              "          '<a target=\"_blank\" href=https://colab.research.google.com/notebooks/data_table.ipynb>data table notebook</a>'\n",
              "          + ' to learn more about interactive tables.';\n",
              "        element.innerHTML = '';\n",
              "        dataTable['output_type'] = 'display_data';\n",
              "        await google.colab.output.renderOutput(dataTable, element);\n",
              "        const docLink = document.createElement('div');\n",
              "        docLink.innerHTML = docLinkHtml;\n",
              "        element.appendChild(docLink);\n",
              "      }\n",
              "    </script>\n",
              "  </div>\n",
              "\n",
              "\n",
              "<div id=\"df-147e09bf-ba0f-479e-a622-b438abd7f8d7\">\n",
              "  <button class=\"colab-df-quickchart\" onclick=\"quickchart('df-147e09bf-ba0f-479e-a622-b438abd7f8d7')\"\n",
              "            title=\"Suggest charts.\"\n",
              "            style=\"display:none;\">\n",
              "\n",
              "<svg xmlns=\"http://www.w3.org/2000/svg\" height=\"24px\"viewBox=\"0 0 24 24\"\n",
              "     width=\"24px\">\n",
              "    <g>\n",
              "        <path d=\"M19 3H5c-1.1 0-2 .9-2 2v14c0 1.1.9 2 2 2h14c1.1 0 2-.9 2-2V5c0-1.1-.9-2-2-2zM9 17H7v-7h2v7zm4 0h-2V7h2v10zm4 0h-2v-4h2v4z\"/>\n",
              "    </g>\n",
              "</svg>\n",
              "  </button>\n",
              "\n",
              "<style>\n",
              "  .colab-df-quickchart {\n",
              "      --bg-color: #E8F0FE;\n",
              "      --fill-color: #1967D2;\n",
              "      --hover-bg-color: #E2EBFA;\n",
              "      --hover-fill-color: #174EA6;\n",
              "      --disabled-fill-color: #AAA;\n",
              "      --disabled-bg-color: #DDD;\n",
              "  }\n",
              "\n",
              "  [theme=dark] .colab-df-quickchart {\n",
              "      --bg-color: #3B4455;\n",
              "      --fill-color: #D2E3FC;\n",
              "      --hover-bg-color: #434B5C;\n",
              "      --hover-fill-color: #FFFFFF;\n",
              "      --disabled-bg-color: #3B4455;\n",
              "      --disabled-fill-color: #666;\n",
              "  }\n",
              "\n",
              "  .colab-df-quickchart {\n",
              "    background-color: var(--bg-color);\n",
              "    border: none;\n",
              "    border-radius: 50%;\n",
              "    cursor: pointer;\n",
              "    display: none;\n",
              "    fill: var(--fill-color);\n",
              "    height: 32px;\n",
              "    padding: 0;\n",
              "    width: 32px;\n",
              "  }\n",
              "\n",
              "  .colab-df-quickchart:hover {\n",
              "    background-color: var(--hover-bg-color);\n",
              "    box-shadow: 0 1px 2px rgba(60, 64, 67, 0.3), 0 1px 3px 1px rgba(60, 64, 67, 0.15);\n",
              "    fill: var(--button-hover-fill-color);\n",
              "  }\n",
              "\n",
              "  .colab-df-quickchart-complete:disabled,\n",
              "  .colab-df-quickchart-complete:disabled:hover {\n",
              "    background-color: var(--disabled-bg-color);\n",
              "    fill: var(--disabled-fill-color);\n",
              "    box-shadow: none;\n",
              "  }\n",
              "\n",
              "  .colab-df-spinner {\n",
              "    border: 2px solid var(--fill-color);\n",
              "    border-color: transparent;\n",
              "    border-bottom-color: var(--fill-color);\n",
              "    animation:\n",
              "      spin 1s steps(1) infinite;\n",
              "  }\n",
              "\n",
              "  @keyframes spin {\n",
              "    0% {\n",
              "      border-color: transparent;\n",
              "      border-bottom-color: var(--fill-color);\n",
              "      border-left-color: var(--fill-color);\n",
              "    }\n",
              "    20% {\n",
              "      border-color: transparent;\n",
              "      border-left-color: var(--fill-color);\n",
              "      border-top-color: var(--fill-color);\n",
              "    }\n",
              "    30% {\n",
              "      border-color: transparent;\n",
              "      border-left-color: var(--fill-color);\n",
              "      border-top-color: var(--fill-color);\n",
              "      border-right-color: var(--fill-color);\n",
              "    }\n",
              "    40% {\n",
              "      border-color: transparent;\n",
              "      border-right-color: var(--fill-color);\n",
              "      border-top-color: var(--fill-color);\n",
              "    }\n",
              "    60% {\n",
              "      border-color: transparent;\n",
              "      border-right-color: var(--fill-color);\n",
              "    }\n",
              "    80% {\n",
              "      border-color: transparent;\n",
              "      border-right-color: var(--fill-color);\n",
              "      border-bottom-color: var(--fill-color);\n",
              "    }\n",
              "    90% {\n",
              "      border-color: transparent;\n",
              "      border-bottom-color: var(--fill-color);\n",
              "    }\n",
              "  }\n",
              "</style>\n",
              "\n",
              "  <script>\n",
              "    async function quickchart(key) {\n",
              "      const quickchartButtonEl =\n",
              "        document.querySelector('#' + key + ' button');\n",
              "      quickchartButtonEl.disabled = true;  // To prevent multiple clicks.\n",
              "      quickchartButtonEl.classList.add('colab-df-spinner');\n",
              "      try {\n",
              "        const charts = await google.colab.kernel.invokeFunction(\n",
              "            'suggestCharts', [key], {});\n",
              "      } catch (error) {\n",
              "        console.error('Error during call to suggestCharts:', error);\n",
              "      }\n",
              "      quickchartButtonEl.classList.remove('colab-df-spinner');\n",
              "      quickchartButtonEl.classList.add('colab-df-quickchart-complete');\n",
              "    }\n",
              "    (() => {\n",
              "      let quickchartButtonEl =\n",
              "        document.querySelector('#df-147e09bf-ba0f-479e-a622-b438abd7f8d7 button');\n",
              "      quickchartButtonEl.style.display =\n",
              "        google.colab.kernel.accessAllowed ? 'block' : 'none';\n",
              "    })();\n",
              "  </script>\n",
              "</div>\n",
              "    </div>\n",
              "  </div>\n"
            ]
          },
          "metadata": {},
          "execution_count": 48
        }
      ],
      "source": [
        "from sklearn.preprocessing import MinMaxScaler, StandardScaler\n",
        "scaler = MinMaxScaler()#StandardScaler() #\n",
        "\n",
        "num_vars = ['area', 'bedrooms', 'bathrooms', 'stories', 'mainroad', 'guestroom', 'basement', 'hotwaterheating', 'airconditioning', 'parking','prefarea','price']\n",
        "df_train[num_vars] = scaler.fit_transform(df_train[num_vars])\n",
        "df_train.head()"
      ]
    },
    {
      "cell_type": "code",
      "execution_count": 49,
      "metadata": {
        "colab": {
          "base_uri": "https://localhost:8080/",
          "height": 206
        },
        "id": "uUpaey2GBZdR",
        "outputId": "898dbd6a-e29a-4311-b61f-a4acc57ac5aa"
      },
      "outputs": [
        {
          "output_type": "execute_result",
          "data": {
            "text/plain": [
              "        price      area  bedrooms  bathrooms   stories  mainroad  guestroom  \\\n",
              "265  0.248485  0.088172  0.333333        0.0  0.333333       1.0        0.0   \n",
              "54   0.531987  0.311828  0.333333        0.5  0.333333       1.0        1.0   \n",
              "171  0.329966  0.617849  0.333333        0.0  0.000000       1.0        0.0   \n",
              "244  0.262626  0.263082  0.333333        0.0  0.333333       1.0        1.0   \n",
              "268  0.246465  0.236559  0.666667        0.0  0.333333       1.0        0.0   \n",
              "\n",
              "     basement  hotwaterheating  airconditioning   parking  prefarea  \\\n",
              "265       0.0              0.0              0.0  0.000000       1.0   \n",
              "54        0.0              0.0              1.0  0.333333       0.0   \n",
              "171       0.0              0.0              0.0  0.333333       1.0   \n",
              "244       1.0              0.0              0.0  0.000000       1.0   \n",
              "268       0.0              0.0              1.0  0.000000       0.0   \n",
              "\n",
              "    furnishingstatus  \n",
              "265   semi-furnished  \n",
              "54    semi-furnished  \n",
              "171   semi-furnished  \n",
              "244   semi-furnished  \n",
              "268   semi-furnished  "
            ],
            "text/html": [
              "\n",
              "  <div id=\"df-d5c90a6a-b42d-4bd6-870d-429472597527\" class=\"colab-df-container\">\n",
              "    <div>\n",
              "<style scoped>\n",
              "    .dataframe tbody tr th:only-of-type {\n",
              "        vertical-align: middle;\n",
              "    }\n",
              "\n",
              "    .dataframe tbody tr th {\n",
              "        vertical-align: top;\n",
              "    }\n",
              "\n",
              "    .dataframe thead th {\n",
              "        text-align: right;\n",
              "    }\n",
              "</style>\n",
              "<table border=\"1\" class=\"dataframe\">\n",
              "  <thead>\n",
              "    <tr style=\"text-align: right;\">\n",
              "      <th></th>\n",
              "      <th>price</th>\n",
              "      <th>area</th>\n",
              "      <th>bedrooms</th>\n",
              "      <th>bathrooms</th>\n",
              "      <th>stories</th>\n",
              "      <th>mainroad</th>\n",
              "      <th>guestroom</th>\n",
              "      <th>basement</th>\n",
              "      <th>hotwaterheating</th>\n",
              "      <th>airconditioning</th>\n",
              "      <th>parking</th>\n",
              "      <th>prefarea</th>\n",
              "      <th>furnishingstatus</th>\n",
              "    </tr>\n",
              "  </thead>\n",
              "  <tbody>\n",
              "    <tr>\n",
              "      <th>265</th>\n",
              "      <td>0.248485</td>\n",
              "      <td>0.088172</td>\n",
              "      <td>0.333333</td>\n",
              "      <td>0.0</td>\n",
              "      <td>0.333333</td>\n",
              "      <td>1.0</td>\n",
              "      <td>0.0</td>\n",
              "      <td>0.0</td>\n",
              "      <td>0.0</td>\n",
              "      <td>0.0</td>\n",
              "      <td>0.000000</td>\n",
              "      <td>1.0</td>\n",
              "      <td>semi-furnished</td>\n",
              "    </tr>\n",
              "    <tr>\n",
              "      <th>54</th>\n",
              "      <td>0.531987</td>\n",
              "      <td>0.311828</td>\n",
              "      <td>0.333333</td>\n",
              "      <td>0.5</td>\n",
              "      <td>0.333333</td>\n",
              "      <td>1.0</td>\n",
              "      <td>1.0</td>\n",
              "      <td>0.0</td>\n",
              "      <td>0.0</td>\n",
              "      <td>1.0</td>\n",
              "      <td>0.333333</td>\n",
              "      <td>0.0</td>\n",
              "      <td>semi-furnished</td>\n",
              "    </tr>\n",
              "    <tr>\n",
              "      <th>171</th>\n",
              "      <td>0.329966</td>\n",
              "      <td>0.617849</td>\n",
              "      <td>0.333333</td>\n",
              "      <td>0.0</td>\n",
              "      <td>0.000000</td>\n",
              "      <td>1.0</td>\n",
              "      <td>0.0</td>\n",
              "      <td>0.0</td>\n",
              "      <td>0.0</td>\n",
              "      <td>0.0</td>\n",
              "      <td>0.333333</td>\n",
              "      <td>1.0</td>\n",
              "      <td>semi-furnished</td>\n",
              "    </tr>\n",
              "    <tr>\n",
              "      <th>244</th>\n",
              "      <td>0.262626</td>\n",
              "      <td>0.263082</td>\n",
              "      <td>0.333333</td>\n",
              "      <td>0.0</td>\n",
              "      <td>0.333333</td>\n",
              "      <td>1.0</td>\n",
              "      <td>1.0</td>\n",
              "      <td>1.0</td>\n",
              "      <td>0.0</td>\n",
              "      <td>0.0</td>\n",
              "      <td>0.000000</td>\n",
              "      <td>1.0</td>\n",
              "      <td>semi-furnished</td>\n",
              "    </tr>\n",
              "    <tr>\n",
              "      <th>268</th>\n",
              "      <td>0.246465</td>\n",
              "      <td>0.236559</td>\n",
              "      <td>0.666667</td>\n",
              "      <td>0.0</td>\n",
              "      <td>0.333333</td>\n",
              "      <td>1.0</td>\n",
              "      <td>0.0</td>\n",
              "      <td>0.0</td>\n",
              "      <td>0.0</td>\n",
              "      <td>1.0</td>\n",
              "      <td>0.000000</td>\n",
              "      <td>0.0</td>\n",
              "      <td>semi-furnished</td>\n",
              "    </tr>\n",
              "  </tbody>\n",
              "</table>\n",
              "</div>\n",
              "    <div class=\"colab-df-buttons\">\n",
              "\n",
              "  <div class=\"colab-df-container\">\n",
              "    <button class=\"colab-df-convert\" onclick=\"convertToInteractive('df-d5c90a6a-b42d-4bd6-870d-429472597527')\"\n",
              "            title=\"Convert this dataframe to an interactive table.\"\n",
              "            style=\"display:none;\">\n",
              "\n",
              "  <svg xmlns=\"http://www.w3.org/2000/svg\" height=\"24px\" viewBox=\"0 -960 960 960\">\n",
              "    <path d=\"M120-120v-720h720v720H120Zm60-500h600v-160H180v160Zm220 220h160v-160H400v160Zm0 220h160v-160H400v160ZM180-400h160v-160H180v160Zm440 0h160v-160H620v160ZM180-180h160v-160H180v160Zm440 0h160v-160H620v160Z\"/>\n",
              "  </svg>\n",
              "    </button>\n",
              "\n",
              "  <style>\n",
              "    .colab-df-container {\n",
              "      display:flex;\n",
              "      gap: 12px;\n",
              "    }\n",
              "\n",
              "    .colab-df-convert {\n",
              "      background-color: #E8F0FE;\n",
              "      border: none;\n",
              "      border-radius: 50%;\n",
              "      cursor: pointer;\n",
              "      display: none;\n",
              "      fill: #1967D2;\n",
              "      height: 32px;\n",
              "      padding: 0 0 0 0;\n",
              "      width: 32px;\n",
              "    }\n",
              "\n",
              "    .colab-df-convert:hover {\n",
              "      background-color: #E2EBFA;\n",
              "      box-shadow: 0px 1px 2px rgba(60, 64, 67, 0.3), 0px 1px 3px 1px rgba(60, 64, 67, 0.15);\n",
              "      fill: #174EA6;\n",
              "    }\n",
              "\n",
              "    .colab-df-buttons div {\n",
              "      margin-bottom: 4px;\n",
              "    }\n",
              "\n",
              "    [theme=dark] .colab-df-convert {\n",
              "      background-color: #3B4455;\n",
              "      fill: #D2E3FC;\n",
              "    }\n",
              "\n",
              "    [theme=dark] .colab-df-convert:hover {\n",
              "      background-color: #434B5C;\n",
              "      box-shadow: 0px 1px 3px 1px rgba(0, 0, 0, 0.15);\n",
              "      filter: drop-shadow(0px 1px 2px rgba(0, 0, 0, 0.3));\n",
              "      fill: #FFFFFF;\n",
              "    }\n",
              "  </style>\n",
              "\n",
              "    <script>\n",
              "      const buttonEl =\n",
              "        document.querySelector('#df-d5c90a6a-b42d-4bd6-870d-429472597527 button.colab-df-convert');\n",
              "      buttonEl.style.display =\n",
              "        google.colab.kernel.accessAllowed ? 'block' : 'none';\n",
              "\n",
              "      async function convertToInteractive(key) {\n",
              "        const element = document.querySelector('#df-d5c90a6a-b42d-4bd6-870d-429472597527');\n",
              "        const dataTable =\n",
              "          await google.colab.kernel.invokeFunction('convertToInteractive',\n",
              "                                                    [key], {});\n",
              "        if (!dataTable) return;\n",
              "\n",
              "        const docLinkHtml = 'Like what you see? Visit the ' +\n",
              "          '<a target=\"_blank\" href=https://colab.research.google.com/notebooks/data_table.ipynb>data table notebook</a>'\n",
              "          + ' to learn more about interactive tables.';\n",
              "        element.innerHTML = '';\n",
              "        dataTable['output_type'] = 'display_data';\n",
              "        await google.colab.output.renderOutput(dataTable, element);\n",
              "        const docLink = document.createElement('div');\n",
              "        docLink.innerHTML = docLinkHtml;\n",
              "        element.appendChild(docLink);\n",
              "      }\n",
              "    </script>\n",
              "  </div>\n",
              "\n",
              "\n",
              "<div id=\"df-6fb64481-120b-4c3f-86cd-05a868ad3a7d\">\n",
              "  <button class=\"colab-df-quickchart\" onclick=\"quickchart('df-6fb64481-120b-4c3f-86cd-05a868ad3a7d')\"\n",
              "            title=\"Suggest charts.\"\n",
              "            style=\"display:none;\">\n",
              "\n",
              "<svg xmlns=\"http://www.w3.org/2000/svg\" height=\"24px\"viewBox=\"0 0 24 24\"\n",
              "     width=\"24px\">\n",
              "    <g>\n",
              "        <path d=\"M19 3H5c-1.1 0-2 .9-2 2v14c0 1.1.9 2 2 2h14c1.1 0 2-.9 2-2V5c0-1.1-.9-2-2-2zM9 17H7v-7h2v7zm4 0h-2V7h2v10zm4 0h-2v-4h2v4z\"/>\n",
              "    </g>\n",
              "</svg>\n",
              "  </button>\n",
              "\n",
              "<style>\n",
              "  .colab-df-quickchart {\n",
              "      --bg-color: #E8F0FE;\n",
              "      --fill-color: #1967D2;\n",
              "      --hover-bg-color: #E2EBFA;\n",
              "      --hover-fill-color: #174EA6;\n",
              "      --disabled-fill-color: #AAA;\n",
              "      --disabled-bg-color: #DDD;\n",
              "  }\n",
              "\n",
              "  [theme=dark] .colab-df-quickchart {\n",
              "      --bg-color: #3B4455;\n",
              "      --fill-color: #D2E3FC;\n",
              "      --hover-bg-color: #434B5C;\n",
              "      --hover-fill-color: #FFFFFF;\n",
              "      --disabled-bg-color: #3B4455;\n",
              "      --disabled-fill-color: #666;\n",
              "  }\n",
              "\n",
              "  .colab-df-quickchart {\n",
              "    background-color: var(--bg-color);\n",
              "    border: none;\n",
              "    border-radius: 50%;\n",
              "    cursor: pointer;\n",
              "    display: none;\n",
              "    fill: var(--fill-color);\n",
              "    height: 32px;\n",
              "    padding: 0;\n",
              "    width: 32px;\n",
              "  }\n",
              "\n",
              "  .colab-df-quickchart:hover {\n",
              "    background-color: var(--hover-bg-color);\n",
              "    box-shadow: 0 1px 2px rgba(60, 64, 67, 0.3), 0 1px 3px 1px rgba(60, 64, 67, 0.15);\n",
              "    fill: var(--button-hover-fill-color);\n",
              "  }\n",
              "\n",
              "  .colab-df-quickchart-complete:disabled,\n",
              "  .colab-df-quickchart-complete:disabled:hover {\n",
              "    background-color: var(--disabled-bg-color);\n",
              "    fill: var(--disabled-fill-color);\n",
              "    box-shadow: none;\n",
              "  }\n",
              "\n",
              "  .colab-df-spinner {\n",
              "    border: 2px solid var(--fill-color);\n",
              "    border-color: transparent;\n",
              "    border-bottom-color: var(--fill-color);\n",
              "    animation:\n",
              "      spin 1s steps(1) infinite;\n",
              "  }\n",
              "\n",
              "  @keyframes spin {\n",
              "    0% {\n",
              "      border-color: transparent;\n",
              "      border-bottom-color: var(--fill-color);\n",
              "      border-left-color: var(--fill-color);\n",
              "    }\n",
              "    20% {\n",
              "      border-color: transparent;\n",
              "      border-left-color: var(--fill-color);\n",
              "      border-top-color: var(--fill-color);\n",
              "    }\n",
              "    30% {\n",
              "      border-color: transparent;\n",
              "      border-left-color: var(--fill-color);\n",
              "      border-top-color: var(--fill-color);\n",
              "      border-right-color: var(--fill-color);\n",
              "    }\n",
              "    40% {\n",
              "      border-color: transparent;\n",
              "      border-right-color: var(--fill-color);\n",
              "      border-top-color: var(--fill-color);\n",
              "    }\n",
              "    60% {\n",
              "      border-color: transparent;\n",
              "      border-right-color: var(--fill-color);\n",
              "    }\n",
              "    80% {\n",
              "      border-color: transparent;\n",
              "      border-right-color: var(--fill-color);\n",
              "      border-bottom-color: var(--fill-color);\n",
              "    }\n",
              "    90% {\n",
              "      border-color: transparent;\n",
              "      border-bottom-color: var(--fill-color);\n",
              "    }\n",
              "  }\n",
              "</style>\n",
              "\n",
              "  <script>\n",
              "    async function quickchart(key) {\n",
              "      const quickchartButtonEl =\n",
              "        document.querySelector('#' + key + ' button');\n",
              "      quickchartButtonEl.disabled = true;  // To prevent multiple clicks.\n",
              "      quickchartButtonEl.classList.add('colab-df-spinner');\n",
              "      try {\n",
              "        const charts = await google.colab.kernel.invokeFunction(\n",
              "            'suggestCharts', [key], {});\n",
              "      } catch (error) {\n",
              "        console.error('Error during call to suggestCharts:', error);\n",
              "      }\n",
              "      quickchartButtonEl.classList.remove('colab-df-spinner');\n",
              "      quickchartButtonEl.classList.add('colab-df-quickchart-complete');\n",
              "    }\n",
              "    (() => {\n",
              "      let quickchartButtonEl =\n",
              "        document.querySelector('#df-6fb64481-120b-4c3f-86cd-05a868ad3a7d button');\n",
              "      quickchartButtonEl.style.display =\n",
              "        google.colab.kernel.accessAllowed ? 'block' : 'none';\n",
              "    })();\n",
              "  </script>\n",
              "</div>\n",
              "    </div>\n",
              "  </div>\n"
            ]
          },
          "metadata": {},
          "execution_count": 49
        }
      ],
      "source": [
        "df_test[num_vars] = scaler.fit_transform(df_test[num_vars])\n",
        "df_test.head()"
      ]
    },
    {
      "cell_type": "code",
      "execution_count": 50,
      "metadata": {
        "colab": {
          "base_uri": "https://localhost:8080/"
        },
        "id": "YwKt_ws7IjR1",
        "outputId": "28968af8-af35-4583-9cc1-2db5ca0676eb"
      },
      "outputs": [
        {
          "output_type": "stream",
          "name": "stdout",
          "text": [
            "X =  [[0.4326093  0.4        0.         0.         1.         1.\n",
            "  1.         0.         1.         0.33333333 0.        ]\n",
            " [0.31495405 0.4        0.33333333 1.         1.         0.\n",
            "  0.         0.         1.         0.         1.        ]\n",
            " [0.34210526 0.2        0.         0.         1.         1.\n",
            "  1.         0.         0.         0.66666667 1.        ]\n",
            " [0.31913116 0.4        0.         0.         1.         0.\n",
            "  1.         0.         1.         0.         1.        ]\n",
            " [0.12489557 0.6        0.         0.33333333 1.         0.\n",
            "  0.         0.         0.         1.         0.        ]]\n",
            "y =  [0.5969697  0.52727273 0.40424242 0.36363636 0.10909091]\n",
            "m =  436\n",
            "n =  436\n"
          ]
        }
      ],
      "source": [
        "X_train2b = df_train[num_vars].values[:, 0:11]  # get input values from first column -- X is a list here\n",
        "y_train2b = df_train[num_vars].values[:, 11]  # get output values from second column -- Y is the list here\n",
        "m_train2b = len(y_train2b)  # Number of training examples\n",
        "n_train2b = len(X_train2b)  # Number of training examples\n",
        "\n",
        "\n",
        "# Display first 5 records and the total number of training examples\n",
        "print('X = ', X_train2b[: 5])\n",
        "print('y = ', y_train2b[: 5])\n",
        "print('m = ', m_train2b)\n",
        "print('n = ', n_train2b)"
      ]
    },
    {
      "cell_type": "code",
      "execution_count": 51,
      "metadata": {
        "colab": {
          "base_uri": "https://localhost:8080/"
        },
        "id": "JSha8th6CMzz",
        "outputId": "531262a6-ef8e-433c-e799-56a15e4e7bfb"
      },
      "outputs": [
        {
          "output_type": "stream",
          "name": "stdout",
          "text": [
            "X =  [[0.08817204 0.33333333 0.         0.33333333 1.         0.\n",
            "  0.         0.         0.         0.         1.        ]\n",
            " [0.31182796 0.33333333 0.5        0.33333333 1.         1.\n",
            "  0.         0.         1.         0.33333333 0.        ]\n",
            " [0.61784946 0.33333333 0.         0.         1.         0.\n",
            "  0.         0.         0.         0.33333333 1.        ]\n",
            " [0.26308244 0.33333333 0.         0.33333333 1.         1.\n",
            "  1.         0.         0.         0.         1.        ]\n",
            " [0.23655914 0.66666667 0.         0.33333333 1.         0.\n",
            "  0.         0.         1.         0.         0.        ]]\n",
            "y =  [0.24848485 0.53198653 0.32996633 0.26262626 0.24646465]\n",
            "m =  109\n",
            "n =  109\n"
          ]
        }
      ],
      "source": [
        "# Separate features and labels\n",
        "X_test2b = df_test[num_vars].values[:, 0:11]  # get input values from first column -- X is a list here\n",
        "y_test2b = df_test[num_vars].values[:, 11]  # get output values from second column -- Y is the list here\n",
        "m_test2b = len(y_test2b)  # Number of training examples\n",
        "n_test2b = len(X_test)  # Number of training examples\n",
        "\n",
        "\n",
        "# Display first 5 records and the total number of training examples\n",
        "print('X = ', X_test2b[: 5])\n",
        "print('y = ', y_test2b[: 5])\n",
        "print('m = ', m_test2b)\n",
        "print('n = ', n_test2b)"
      ]
    },
    {
      "cell_type": "code",
      "execution_count": 52,
      "metadata": {
        "id": "5ttQkBzsCYbQ"
      },
      "outputs": [],
      "source": [
        "X_0train2b = np.ones((m_train2b, 1))\n",
        "X_0test2b = np.ones((m_test2b, 1))"
      ]
    },
    {
      "cell_type": "code",
      "execution_count": 53,
      "metadata": {
        "colab": {
          "base_uri": "https://localhost:8080/"
        },
        "id": "i7TBbdX8Ce0x",
        "outputId": "1c102e90-cf0b-4a44-ae10-ee30a91fa14a"
      },
      "outputs": [
        {
          "output_type": "execute_result",
          "data": {
            "text/plain": [
              "array([[0.4326093 , 0.4       , 0.        , 0.        , 1.        ,\n",
              "        1.        , 1.        , 0.        , 1.        , 0.33333333,\n",
              "        0.        ],\n",
              "       [0.31495405, 0.4       , 0.33333333, 1.        , 1.        ,\n",
              "        0.        , 0.        , 0.        , 1.        , 0.        ,\n",
              "        1.        ],\n",
              "       [0.34210526, 0.2       , 0.        , 0.        , 1.        ,\n",
              "        1.        , 1.        , 0.        , 0.        , 0.66666667,\n",
              "        1.        ],\n",
              "       [0.31913116, 0.4       , 0.        , 0.        , 1.        ,\n",
              "        0.        , 1.        , 0.        , 1.        , 0.        ,\n",
              "        1.        ],\n",
              "       [0.12489557, 0.6       , 0.        , 0.33333333, 1.        ,\n",
              "        0.        , 0.        , 0.        , 0.        , 1.        ,\n",
              "        0.        ],\n",
              "       [0.14021164, 0.2       , 0.        , 0.        , 1.        ,\n",
              "        0.        , 0.        , 0.        , 0.        , 0.        ,\n",
              "        0.        ],\n",
              "       [0.49596213, 0.6       , 1.        , 1.        , 1.        ,\n",
              "        0.        , 0.        , 0.        , 1.        , 1.        ,\n",
              "        0.        ],\n",
              "       [0.446533  , 0.4       , 0.        , 0.        , 1.        ,\n",
              "        0.        , 0.        , 0.        , 0.        , 0.        ,\n",
              "        0.        ],\n",
              "       [0.08103592, 0.4       , 0.33333333, 0.33333333, 1.        ,\n",
              "        1.        , 1.        , 0.        , 0.        , 0.        ,\n",
              "        0.        ],\n",
              "       [0.15288221, 0.2       , 0.        , 0.        , 1.        ,\n",
              "        0.        , 1.        , 0.        , 0.        , 0.        ,\n",
              "        0.        ]])"
            ]
          },
          "metadata": {},
          "execution_count": 53
        }
      ],
      "source": [
        "X_1train2b = X_train2b.reshape(m_train2b, 11)\n",
        "X_1train2b[:10]"
      ]
    },
    {
      "cell_type": "code",
      "execution_count": 54,
      "metadata": {
        "colab": {
          "base_uri": "https://localhost:8080/"
        },
        "id": "q8dJEwRcC1ZO",
        "outputId": "8654f321-949a-4eeb-9c5d-8032536bb18c"
      },
      "outputs": [
        {
          "output_type": "execute_result",
          "data": {
            "text/plain": [
              "array([[0.08817204, 0.33333333, 0.        , 0.33333333, 1.        ,\n",
              "        0.        , 0.        , 0.        , 0.        , 0.        ,\n",
              "        1.        ],\n",
              "       [0.31182796, 0.33333333, 0.5       , 0.33333333, 1.        ,\n",
              "        1.        , 0.        , 0.        , 1.        , 0.33333333,\n",
              "        0.        ],\n",
              "       [0.61784946, 0.33333333, 0.        , 0.        , 1.        ,\n",
              "        0.        , 0.        , 0.        , 0.        , 0.33333333,\n",
              "        1.        ],\n",
              "       [0.26308244, 0.33333333, 0.        , 0.33333333, 1.        ,\n",
              "        1.        , 1.        , 0.        , 0.        , 0.        ,\n",
              "        1.        ],\n",
              "       [0.23655914, 0.66666667, 0.        , 0.33333333, 1.        ,\n",
              "        0.        , 0.        , 0.        , 1.        , 0.        ,\n",
              "        0.        ],\n",
              "       [0.19139785, 0.33333333, 0.        , 0.        , 1.        ,\n",
              "        0.        , 0.        , 0.        , 0.        , 0.        ,\n",
              "        1.        ],\n",
              "       [0.35053763, 0.66666667, 0.5       , 0.33333333, 1.        ,\n",
              "        1.        , 1.        , 0.        , 1.        , 0.66666667,\n",
              "        1.        ],\n",
              "       [0.35053763, 0.66666667, 0.5       , 0.33333333, 0.        ,\n",
              "        0.        , 0.        , 0.        , 1.        , 0.        ,\n",
              "        0.        ],\n",
              "       [0.36917563, 0.        , 0.        , 0.        , 1.        ,\n",
              "        0.        , 0.        , 0.        , 0.        , 0.        ,\n",
              "        0.        ],\n",
              "       [0.35053763, 0.33333333, 0.        , 0.        , 1.        ,\n",
              "        1.        , 1.        , 0.        , 0.        , 0.66666667,\n",
              "        1.        ]])"
            ]
          },
          "metadata": {},
          "execution_count": 54
        }
      ],
      "source": [
        "X_1test2b = X_test2b.reshape(m_test2b, 11)\n",
        "X_1test2b[:10]"
      ]
    },
    {
      "cell_type": "code",
      "execution_count": 55,
      "metadata": {
        "colab": {
          "base_uri": "https://localhost:8080/"
        },
        "id": "m6DFbXfmC7Zy",
        "outputId": "79671f76-26c7-4d13-f7e7-6afd60e53131"
      },
      "outputs": [
        {
          "output_type": "execute_result",
          "data": {
            "text/plain": [
              "array([[1.        , 0.4326093 , 0.4       , 0.        , 0.        ,\n",
              "        1.        , 1.        , 1.        , 0.        , 1.        ,\n",
              "        0.33333333, 0.        ],\n",
              "       [1.        , 0.31495405, 0.4       , 0.33333333, 1.        ,\n",
              "        1.        , 0.        , 0.        , 0.        , 1.        ,\n",
              "        0.        , 1.        ],\n",
              "       [1.        , 0.34210526, 0.2       , 0.        , 0.        ,\n",
              "        1.        , 1.        , 1.        , 0.        , 0.        ,\n",
              "        0.66666667, 1.        ],\n",
              "       [1.        , 0.31913116, 0.4       , 0.        , 0.        ,\n",
              "        1.        , 0.        , 1.        , 0.        , 1.        ,\n",
              "        0.        , 1.        ],\n",
              "       [1.        , 0.12489557, 0.6       , 0.        , 0.33333333,\n",
              "        1.        , 0.        , 0.        , 0.        , 0.        ,\n",
              "        1.        , 0.        ]])"
            ]
          },
          "metadata": {},
          "execution_count": 55
        }
      ],
      "source": [
        "Xtrain2b = np.hstack((X_0train2b, X_1train2b))\n",
        "Xtrain2b[:5]"
      ]
    },
    {
      "cell_type": "code",
      "execution_count": 56,
      "metadata": {
        "colab": {
          "base_uri": "https://localhost:8080/"
        },
        "id": "XJhnYQvZC-zw",
        "outputId": "09d4b694-8c21-4bd9-918c-48d3edab20fe"
      },
      "outputs": [
        {
          "output_type": "execute_result",
          "data": {
            "text/plain": [
              "array([[1.        , 0.08817204, 0.33333333, 0.        , 0.33333333,\n",
              "        1.        , 0.        , 0.        , 0.        , 0.        ,\n",
              "        0.        , 1.        ],\n",
              "       [1.        , 0.31182796, 0.33333333, 0.5       , 0.33333333,\n",
              "        1.        , 1.        , 0.        , 0.        , 1.        ,\n",
              "        0.33333333, 0.        ],\n",
              "       [1.        , 0.61784946, 0.33333333, 0.        , 0.        ,\n",
              "        1.        , 0.        , 0.        , 0.        , 0.        ,\n",
              "        0.33333333, 1.        ],\n",
              "       [1.        , 0.26308244, 0.33333333, 0.        , 0.33333333,\n",
              "        1.        , 1.        , 1.        , 0.        , 0.        ,\n",
              "        0.        , 1.        ],\n",
              "       [1.        , 0.23655914, 0.66666667, 0.        , 0.33333333,\n",
              "        1.        , 0.        , 0.        , 0.        , 1.        ,\n",
              "        0.        , 0.        ]])"
            ]
          },
          "metadata": {},
          "execution_count": 56
        }
      ],
      "source": [
        "Xtest2b = np.hstack((X_0test2b, X_1test2b))\n",
        "Xtest2b[:5]"
      ]
    },
    {
      "cell_type": "code",
      "execution_count": 57,
      "metadata": {
        "id": "z8gi7qVGDCiv"
      },
      "outputs": [],
      "source": [
        "theta2b = np.zeros(12)"
      ]
    },
    {
      "cell_type": "code",
      "execution_count": 58,
      "metadata": {
        "id": "FcfV6XPhEDMe"
      },
      "outputs": [],
      "source": [
        "def gradient_descent(X, Xtest, y, y_test, theta, alpha, iterations):\n",
        "    m_train = len(y)  # Number of training examples\n",
        "    m_test = len(y_test)  # Number of testing examples\n",
        "    cost_history_train = np.zeros(iterations)\n",
        "    cost_history_test = np.zeros(iterations)\n",
        "\n",
        "    for i in range(iterations):\n",
        "        predictions = X.dot(theta)\n",
        "        errors = np.subtract(predictions, y)\n",
        "        gradients = (2/m_train) * X.transpose().dot(errors)\n",
        "        theta -= alpha * gradients\n",
        "\n",
        "        train_loss = (1/m_train) * np.sum(np.square(X.dot(theta) - y))\n",
        "        cost_history_train[i] = train_loss\n",
        "\n",
        "        val_loss = (1/m_test) * np.sum(np.square(Xtest.dot(theta) - y_test))\n",
        "        cost_history_test[i] = val_loss\n",
        "\n",
        "    return theta, cost_history_train, cost_history_test\n"
      ]
    },
    {
      "cell_type": "code",
      "execution_count": 59,
      "metadata": {
        "id": "22TF1aAkDFZ4"
      },
      "outputs": [],
      "source": [
        "iterations2b = 1500\n",
        "alpha2b = 0.1"
      ]
    },
    {
      "cell_type": "code",
      "execution_count": 60,
      "metadata": {
        "colab": {
          "base_uri": "https://localhost:8080/"
        },
        "id": "Bcx8zAmkDIPy",
        "outputId": "b87dc2f4-12b5-4ddc-851f-b8ab985cb712"
      },
      "outputs": [
        {
          "output_type": "stream",
          "name": "stdout",
          "text": [
            "Final value of theta = [0.00062157 0.30672338 0.04501606 0.29873061 0.10792256 0.05313261\n",
            " 0.03360977 0.02623172 0.07781048 0.07562659 0.06725729 0.05257376]\n",
            "cost_history = [0.03625022 0.02130074 0.01738271 ... 0.00860915 0.00860915 0.00860914] [0.04291103 0.02570219 0.02063971 ... 0.01187362 0.01187365 0.01187368]\n"
          ]
        }
      ],
      "source": [
        "theta2b, cost_history_train, cost_history_test = gradient_descent(Xtrain2b, Xtest2b, y_train2b, y_test2b, theta2b, alpha2b, iterations2b)\n",
        "print('Final value of theta =', theta2b)\n",
        "print('cost_history =', cost_history_train, cost_history_test)"
      ]
    },
    {
      "cell_type": "code",
      "execution_count": 61,
      "metadata": {
        "colab": {
          "base_uri": "https://localhost:8080/",
          "height": 472
        },
        "id": "sd53CnFjDVvg",
        "outputId": "b4345485-f654-4946-9b0c-dd59d8db8cf1"
      },
      "outputs": [
        {
          "output_type": "display_data",
          "data": {
            "text/plain": [
              "<Figure size 640x480 with 1 Axes>"
            ],
            "image/png": "[encoded data removed]"
          },
          "metadata": {}
        }
      ],
      "source": [
        "plt.plot(cost_history_train, label=\"Training Loss\")\n",
        "plt.plot(cost_history_test, label=\"Validation Loss\")\n",
        "plt.xlabel(\"Iteration\")\n",
        "plt.ylabel(\"Mean Squared Error\")\n",
        "plt.legend()\n",
        "plt.title(\"Training and Validation Loss Over Iterations\")\n",
        "plt.show()"
      ]
    },
    {
      "cell_type": "markdown",
      "metadata": {
        "id": "REfTfVnkDcox"
      },
      "source": [
        "Problem 3A"
      ]
    },
    {
      "cell_type": "code",
      "execution_count": 62,
      "metadata": {
        "colab": {
          "base_uri": "https://localhost:8080/",
          "height": 206
        },
        "id": "BW1ImhvNilPw",
        "outputId": "89e208b1-05cb-44f0-e0b4-dfb25fe92454"
      },
      "outputs": [
        {
          "output_type": "execute_result",
          "data": {
            "text/plain": [
              "        price      area  bedrooms  bathrooms   stories  mainroad  guestroom  \\\n",
              "22   0.596970  1.351873  0.078679  -0.579897 -0.929023       1.0        1.0   \n",
              "41   0.527273  0.565326  0.078679   1.410929  2.474792       1.0        0.0   \n",
              "91   0.404242  0.746837 -1.293483  -0.579897 -0.929023       1.0        1.0   \n",
              "118  0.363636  0.593251  0.078679  -0.579897 -0.929023       1.0        0.0   \n",
              "472  0.109091 -0.705249  1.450841  -0.579897  0.205582       1.0        0.0   \n",
              "\n",
              "     basement  hotwaterheating  airconditioning   parking  prefarea  \\\n",
              "22        1.0              0.0              1.0  0.311484       0.0   \n",
              "41        0.0              0.0              1.0 -0.849261       1.0   \n",
              "91        1.0              0.0              0.0  1.472229       1.0   \n",
              "118       1.0              0.0              1.0 -0.849261       1.0   \n",
              "472       0.0              0.0              0.0  2.632974       0.0   \n",
              "\n",
              "    furnishingstatus  \n",
              "22         furnished  \n",
              "41         furnished  \n",
              "91         furnished  \n",
              "118        furnished  \n",
              "472   semi-furnished  "
            ],
            "text/html": [
              "\n",
              "  <div id=\"df-52f3347e-8cfa-4ffe-ad2b-620d56b0724d\" class=\"colab-df-container\">\n",
              "    <div>\n",
              "<style scoped>\n",
              "    .dataframe tbody tr th:only-of-type {\n",
              "        vertical-align: middle;\n",
              "    }\n",
              "\n",
              "    .dataframe tbody tr th {\n",
              "        vertical-align: top;\n",
              "    }\n",
              "\n",
              "    .dataframe thead th {\n",
              "        text-align: right;\n",
              "    }\n",
              "</style>\n",
              "<table border=\"1\" class=\"dataframe\">\n",
              "  <thead>\n",
              "    <tr style=\"text-align: right;\">\n",
              "      <th></th>\n",
              "      <th>price</th>\n",
              "      <th>area</th>\n",
              "      <th>bedrooms</th>\n",
              "      <th>bathrooms</th>\n",
              "      <th>stories</th>\n",
              "      <th>mainroad</th>\n",
              "      <th>guestroom</th>\n",
              "      <th>basement</th>\n",
              "      <th>hotwaterheating</th>\n",
              "      <th>airconditioning</th>\n",
              "      <th>parking</th>\n",
              "      <th>prefarea</th>\n",
              "      <th>furnishingstatus</th>\n",
              "    </tr>\n",
              "  </thead>\n",
              "  <tbody>\n",
              "    <tr>\n",
              "      <th>22</th>\n",
              "      <td>0.596970</td>\n",
              "      <td>1.351873</td>\n",
              "      <td>0.078679</td>\n",
              "      <td>-0.579897</td>\n",
              "      <td>-0.929023</td>\n",
              "      <td>1.0</td>\n",
              "      <td>1.0</td>\n",
              "      <td>1.0</td>\n",
              "      <td>0.0</td>\n",
              "      <td>1.0</td>\n",
              "      <td>0.311484</td>\n",
              "      <td>0.0</td>\n",
              "      <td>furnished</td>\n",
              "    </tr>\n",
              "    <tr>\n",
              "      <th>41</th>\n",
              "      <td>0.527273</td>\n",
              "      <td>0.565326</td>\n",
              "      <td>0.078679</td>\n",
              "      <td>1.410929</td>\n",
              "      <td>2.474792</td>\n",
              "      <td>1.0</td>\n",
              "      <td>0.0</td>\n",
              "      <td>0.0</td>\n",
              "      <td>0.0</td>\n",
              "      <td>1.0</td>\n",
              "      <td>-0.849261</td>\n",
              "      <td>1.0</td>\n",
              "      <td>furnished</td>\n",
              "    </tr>\n",
              "    <tr>\n",
              "      <th>91</th>\n",
              "      <td>0.404242</td>\n",
              "      <td>0.746837</td>\n",
              "      <td>-1.293483</td>\n",
              "      <td>-0.579897</td>\n",
              "      <td>-0.929023</td>\n",
              "      <td>1.0</td>\n",
              "      <td>1.0</td>\n",
              "      <td>1.0</td>\n",
              "      <td>0.0</td>\n",
              "      <td>0.0</td>\n",
              "      <td>1.472229</td>\n",
              "      <td>1.0</td>\n",
              "      <td>furnished</td>\n",
              "    </tr>\n",
              "    <tr>\n",
              "      <th>118</th>\n",
              "      <td>0.363636</td>\n",
              "      <td>0.593251</td>\n",
              "      <td>0.078679</td>\n",
              "      <td>-0.579897</td>\n",
              "      <td>-0.929023</td>\n",
              "      <td>1.0</td>\n",
              "      <td>0.0</td>\n",
              "      <td>1.0</td>\n",
              "      <td>0.0</td>\n",
              "      <td>1.0</td>\n",
              "      <td>-0.849261</td>\n",
              "      <td>1.0</td>\n",
              "      <td>furnished</td>\n",
              "    </tr>\n",
              "    <tr>\n",
              "      <th>472</th>\n",
              "      <td>0.109091</td>\n",
              "      <td>-0.705249</td>\n",
              "      <td>1.450841</td>\n",
              "      <td>-0.579897</td>\n",
              "      <td>0.205582</td>\n",
              "      <td>1.0</td>\n",
              "      <td>0.0</td>\n",
              "      <td>0.0</td>\n",
              "      <td>0.0</td>\n",
              "      <td>0.0</td>\n",
              "      <td>2.632974</td>\n",
              "      <td>0.0</td>\n",
              "      <td>semi-furnished</td>\n",
              "    </tr>\n",
              "  </tbody>\n",
              "</table>\n",
              "</div>\n",
              "    <div class=\"colab-df-buttons\">\n",
              "\n",
              "  <div class=\"colab-df-container\">\n",
              "    <button class=\"colab-df-convert\" onclick=\"convertToInteractive('df-52f3347e-8cfa-4ffe-ad2b-620d56b0724d')\"\n",
              "            title=\"Convert this dataframe to an interactive table.\"\n",
              "            style=\"display:none;\">\n",
              "\n",
              "  <svg xmlns=\"http://www.w3.org/2000/svg\" height=\"24px\" viewBox=\"0 -960 960 960\">\n",
              "    <path d=\"M120-120v-720h720v720H120Zm60-500h600v-160H180v160Zm220 220h160v-160H400v160Zm0 220h160v-160H400v160ZM180-400h160v-160H180v160Zm440 0h160v-160H620v160ZM180-180h160v-160H180v160Zm440 0h160v-160H620v160Z\"/>\n",
              "  </svg>\n",
              "    </button>\n",
              "\n",
              "  <style>\n",
              "    .colab-df-container {\n",
              "      display:flex;\n",
              "      gap: 12px;\n",
              "    }\n",
              "\n",
              "    .colab-df-convert {\n",
              "      background-color: #E8F0FE;\n",
              "      border: none;\n",
              "      border-radius: 50%;\n",
              "      cursor: pointer;\n",
              "      display: none;\n",
              "      fill: #1967D2;\n",
              "      height: 32px;\n",
              "      padding: 0 0 0 0;\n",
              "      width: 32px;\n",
              "    }\n",
              "\n",
              "    .colab-df-convert:hover {\n",
              "      background-color: #E2EBFA;\n",
              "      box-shadow: 0px 1px 2px rgba(60, 64, 67, 0.3), 0px 1px 3px 1px rgba(60, 64, 67, 0.15);\n",
              "      fill: #174EA6;\n",
              "    }\n",
              "\n",
              "    .colab-df-buttons div {\n",
              "      margin-bottom: 4px;\n",
              "    }\n",
              "\n",
              "    [theme=dark] .colab-df-convert {\n",
              "      background-color: #3B4455;\n",
              "      fill: #D2E3FC;\n",
              "    }\n",
              "\n",
              "    [theme=dark] .colab-df-convert:hover {\n",
              "      background-color: #434B5C;\n",
              "      box-shadow: 0px 1px 3px 1px rgba(0, 0, 0, 0.15);\n",
              "      filter: drop-shadow(0px 1px 2px rgba(0, 0, 0, 0.3));\n",
              "      fill: #FFFFFF;\n",
              "    }\n",
              "  </style>\n",
              "\n",
              "    <script>\n",
              "      const buttonEl =\n",
              "        document.querySelector('#df-52f3347e-8cfa-4ffe-ad2b-620d56b0724d button.colab-df-convert');\n",
              "      buttonEl.style.display =\n",
              "        google.colab.kernel.accessAllowed ? 'block' : 'none';\n",
              "\n",
              "      async function convertToInteractive(key) {\n",
              "        const element = document.querySelector('#df-52f3347e-8cfa-4ffe-ad2b-620d56b0724d');\n",
              "        const dataTable =\n",
              "          await google.colab.kernel.invokeFunction('convertToInteractive',\n",
              "                                                    [key], {});\n",
              "        if (!dataTable) return;\n",
              "\n",
              "        const docLinkHtml = 'Like what you see? Visit the ' +\n",
              "          '<a target=\"_blank\" href=https://colab.research.google.com/notebooks/data_table.ipynb>data table notebook</a>'\n",
              "          + ' to learn more about interactive tables.';\n",
              "        element.innerHTML = '';\n",
              "        dataTable['output_type'] = 'display_data';\n",
              "        await google.colab.output.renderOutput(dataTable, element);\n",
              "        const docLink = document.createElement('div');\n",
              "        docLink.innerHTML = docLinkHtml;\n",
              "        element.appendChild(docLink);\n",
              "      }\n",
              "    </script>\n",
              "  </div>\n",
              "\n",
              "\n",
              "<div id=\"df-c4489c52-80ce-4d67-9488-afc30d1ea090\">\n",
              "  <button class=\"colab-df-quickchart\" onclick=\"quickchart('df-c4489c52-80ce-4d67-9488-afc30d1ea090')\"\n",
              "            title=\"Suggest charts.\"\n",
              "            style=\"display:none;\">\n",
              "\n",
              "<svg xmlns=\"http://www.w3.org/2000/svg\" height=\"24px\"viewBox=\"0 0 24 24\"\n",
              "     width=\"24px\">\n",
              "    <g>\n",
              "        <path d=\"M19 3H5c-1.1 0-2 .9-2 2v14c0 1.1.9 2 2 2h14c1.1 0 2-.9 2-2V5c0-1.1-.9-2-2-2zM9 17H7v-7h2v7zm4 0h-2V7h2v10zm4 0h-2v-4h2v4z\"/>\n",
              "    </g>\n",
              "</svg>\n",
              "  </button>\n",
              "\n",
              "<style>\n",
              "  .colab-df-quickchart {\n",
              "      --bg-color: #E8F0FE;\n",
              "      --fill-color: #1967D2;\n",
              "      --hover-bg-color: #E2EBFA;\n",
              "      --hover-fill-color: #174EA6;\n",
              "      --disabled-fill-color: #AAA;\n",
              "      --disabled-bg-color: #DDD;\n",
              "  }\n",
              "\n",
              "  [theme=dark] .colab-df-quickchart {\n",
              "      --bg-color: #3B4455;\n",
              "      --fill-color: #D2E3FC;\n",
              "      --hover-bg-color: #434B5C;\n",
              "      --hover-fill-color: #FFFFFF;\n",
              "      --disabled-bg-color: #3B4455;\n",
              "      --disabled-fill-color: #666;\n",
              "  }\n",
              "\n",
              "  .colab-df-quickchart {\n",
              "    background-color: var(--bg-color);\n",
              "    border: none;\n",
              "    border-radius: 50%;\n",
              "    cursor: pointer;\n",
              "    display: none;\n",
              "    fill: var(--fill-color);\n",
              "    height: 32px;\n",
              "    padding: 0;\n",
              "    width: 32px;\n",
              "  }\n",
              "\n",
              "  .colab-df-quickchart:hover {\n",
              "    background-color: var(--hover-bg-color);\n",
              "    box-shadow: 0 1px 2px rgba(60, 64, 67, 0.3), 0 1px 3px 1px rgba(60, 64, 67, 0.15);\n",
              "    fill: var(--button-hover-fill-color);\n",
              "  }\n",
              "\n",
              "  .colab-df-quickchart-complete:disabled,\n",
              "  .colab-df-quickchart-complete:disabled:hover {\n",
              "    background-color: var(--disabled-bg-color);\n",
              "    fill: var(--disabled-fill-color);\n",
              "    box-shadow: none;\n",
              "  }\n",
              "\n",
              "  .colab-df-spinner {\n",
              "    border: 2px solid var(--fill-color);\n",
              "    border-color: transparent;\n",
              "    border-bottom-color: var(--fill-color);\n",
              "    animation:\n",
              "      spin 1s steps(1) infinite;\n",
              "  }\n",
              "\n",
              "  @keyframes spin {\n",
              "    0% {\n",
              "      border-color: transparent;\n",
              "      border-bottom-color: var(--fill-color);\n",
              "      border-left-color: var(--fill-color);\n",
              "    }\n",
              "    20% {\n",
              "      border-color: transparent;\n",
              "      border-left-color: var(--fill-color);\n",
              "      border-top-color: var(--fill-color);\n",
              "    }\n",
              "    30% {\n",
              "      border-color: transparent;\n",
              "      border-left-color: var(--fill-color);\n",
              "      border-top-color: var(--fill-color);\n",
              "      border-right-color: var(--fill-color);\n",
              "    }\n",
              "    40% {\n",
              "      border-color: transparent;\n",
              "      border-right-color: var(--fill-color);\n",
              "      border-top-color: var(--fill-color);\n",
              "    }\n",
              "    60% {\n",
              "      border-color: transparent;\n",
              "      border-right-color: var(--fill-color);\n",
              "    }\n",
              "    80% {\n",
              "      border-color: transparent;\n",
              "      border-right-color: var(--fill-color);\n",
              "      border-bottom-color: var(--fill-color);\n",
              "    }\n",
              "    90% {\n",
              "      border-color: transparent;\n",
              "      border-bottom-color: var(--fill-color);\n",
              "    }\n",
              "  }\n",
              "</style>\n",
              "\n",
              "  <script>\n",
              "    async function quickchart(key) {\n",
              "      const quickchartButtonEl =\n",
              "        document.querySelector('#' + key + ' button');\n",
              "      quickchartButtonEl.disabled = true;  // To prevent multiple clicks.\n",
              "      quickchartButtonEl.classList.add('colab-df-spinner');\n",
              "      try {\n",
              "        const charts = await google.colab.kernel.invokeFunction(\n",
              "            'suggestCharts', [key], {});\n",
              "      } catch (error) {\n",
              "        console.error('Error during call to suggestCharts:', error);\n",
              "      }\n",
              "      quickchartButtonEl.classList.remove('colab-df-spinner');\n",
              "      quickchartButtonEl.classList.add('colab-df-quickchart-complete');\n",
              "    }\n",
              "    (() => {\n",
              "      let quickchartButtonEl =\n",
              "        document.querySelector('#df-c4489c52-80ce-4d67-9488-afc30d1ea090 button');\n",
              "      quickchartButtonEl.style.display =\n",
              "        google.colab.kernel.accessAllowed ? 'block' : 'none';\n",
              "    })();\n",
              "  </script>\n",
              "</div>\n",
              "    </div>\n",
              "  </div>\n"
            ]
          },
          "metadata": {},
          "execution_count": 62
        }
      ],
      "source": [
        "from sklearn.preprocessing import MinMaxScaler, StandardScaler\n",
        "scaler = StandardScaler()#MinMaxScaler()#StandardScaler()#MinMaxScaler()\n",
        "# Apply scaler() to all the columns except the 'yes-no' and 'dummy' variables\n",
        "num_varsa= ['area', 'bedrooms', 'bathrooms', 'stories', 'parking']\n",
        "\n",
        "df_train[num_varsa] = scaler.fit_transform(df_train[num_varsa])\n",
        "df_train.head()"
      ]
    },
    {
      "cell_type": "code",
      "execution_count": 63,
      "metadata": {
        "colab": {
          "base_uri": "https://localhost:8080/"
        },
        "id": "SDqMYX0cDXT9",
        "outputId": "da04c80b-8cfa-4c99-f048-36aaefe6a33a"
      },
      "outputs": [
        {
          "output_type": "stream",
          "name": "stdout",
          "text": [
            "X =  [[ 1.35187274  0.07867901 -0.57989658 -0.92902305  0.31148433]\n",
            " [ 0.56532627  0.07867901  1.41092949  2.4747925  -0.8492607 ]\n",
            " [ 0.746837   -1.29348292 -0.57989658 -0.92902305  1.47222936]\n",
            " [ 0.593251    0.07867901 -0.57989658 -0.92902305 -0.8492607 ]\n",
            " [-0.7052488   1.45084094 -0.57989658  0.20558213  2.6329744 ]]\n",
            "y =  [0.5969697  0.52727273 0.40424242 0.36363636 0.10909091]\n",
            "m =  436\n",
            "n =  436\n"
          ]
        }
      ],
      "source": [
        "# Separate features and labels\n",
        "y_train3a= df_train['price'].values  # get input values from first column -- X is a list here\n",
        "x_train3a = df_train[num_varsa].values[:, (0,1,2,3,4)]  # get output values from second column -- Y is the list here\n",
        "m_train3a = len(y_train3a)  # Number of training examples\n",
        "n_train3a = len(x_train3a)  # Number of training examples\n",
        "\n",
        "print('X = ', x_train3a[: 5])\n",
        "print('y = ', y_train3a[: 5])\n",
        "print('m = ', m_train3a)\n",
        "print('n = ', n_train3a)\n"
      ]
    },
    {
      "cell_type": "code",
      "execution_count": 64,
      "metadata": {
        "colab": {
          "base_uri": "https://localhost:8080/"
        },
        "id": "Z_3mrKAU3BEl",
        "outputId": "0bb95114-3297-4140-a953-4f8cdc81d919"
      },
      "outputs": [
        {
          "output_type": "stream",
          "name": "stdout",
          "text": [
            "X =  [[0.08817204 0.33333333 0.         0.33333333 0.        ]\n",
            " [0.31182796 0.33333333 0.5        0.33333333 0.33333333]\n",
            " [0.61784946 0.33333333 0.         0.         0.33333333]\n",
            " [0.26308244 0.33333333 0.         0.33333333 0.        ]\n",
            " [0.23655914 0.66666667 0.         0.33333333 0.        ]]\n",
            "y =  [0.24848485 0.53198653 0.32996633 0.26262626 0.24646465]\n",
            "m =  109\n",
            "n =  109\n"
          ]
        }
      ],
      "source": [
        "# Separate features and labels\n",
        "y_test3a= df_test['price'].values  # get input values from first column -- X is a list here\n",
        "x_test3a = df_test[num_varsa].values[:, (0,1,2,3,4)]  # get output values from second column -- Y is the list here\n",
        "m_test3a = len(y_test3a)  # Number of training examples\n",
        "n_test3a = len(x_test3a)  # Number of training examples\n",
        "\n",
        "\n",
        "print('X = ', x_test3a[: 5])\n",
        "print('y = ', y_test3a[: 5])\n",
        "print('m = ', m_test3a)\n",
        "print('n = ', n_test3a)"
      ]
    },
    {
      "cell_type": "code",
      "execution_count": 65,
      "metadata": {
        "colab": {
          "base_uri": "https://localhost:8080/"
        },
        "id": "L9UxfM7v3Dhw",
        "outputId": "f281734a-ddd4-4877-8208-a536a1bdf274"
      },
      "outputs": [
        {
          "output_type": "execute_result",
          "data": {
            "text/plain": [
              "array([[1.],\n",
              "       [1.],\n",
              "       [1.],\n",
              "       [1.],\n",
              "       [1.]])"
            ]
          },
          "metadata": {},
          "execution_count": 65
        }
      ],
      "source": [
        "X_03a = np.ones((m_train3a, 1))\n",
        "X_0t3a = np.ones((m_test3a, 1))\n",
        "X_03a[:5]\n",
        "X_0t3a[:5]"
      ]
    },
    {
      "cell_type": "code",
      "execution_count": 66,
      "metadata": {
        "colab": {
          "base_uri": "https://localhost:8080/"
        },
        "id": "myHjBZAB3Pyh",
        "outputId": "af043d40-e51a-40cc-988c-b1e02a1b3344"
      },
      "outputs": [
        {
          "output_type": "execute_result",
          "data": {
            "text/plain": [
              "array([[ 1.35187274,  0.07867901, -0.57989658, -0.92902305,  0.31148433],\n",
              "       [ 0.56532627,  0.07867901,  1.41092949,  2.4747925 , -0.8492607 ],\n",
              "       [ 0.746837  , -1.29348292, -0.57989658, -0.92902305,  1.47222936],\n",
              "       [ 0.593251  ,  0.07867901, -0.57989658, -0.92902305, -0.8492607 ],\n",
              "       [-0.7052488 ,  1.45084094, -0.57989658,  0.20558213,  2.6329744 ],\n",
              "       [-0.60285813, -1.29348292, -0.57989658, -0.92902305, -0.8492607 ],\n",
              "       [ 1.77539777,  1.45084094,  5.39258163,  2.4747925 ,  2.6329744 ],\n",
              "       [ 1.44495517,  0.07867901, -0.57989658, -0.92902305, -0.8492607 ],\n",
              "       [-0.99845843,  0.07867901,  1.41092949,  0.20558213, -0.8492607 ],\n",
              "       [-0.51815313, -1.29348292, -0.57989658, -0.92902305, -0.8492607 ]])"
            ]
          },
          "metadata": {},
          "execution_count": 66
        }
      ],
      "source": [
        "X_13a = x_train3a.reshape(m_train3a, 5)\n",
        "X_13a[:10]\n"
      ]
    },
    {
      "cell_type": "code",
      "execution_count": 67,
      "metadata": {
        "colab": {
          "base_uri": "https://localhost:8080/"
        },
        "id": "crxQo08z3WOe",
        "outputId": "496d986c-4cb5-4214-b8ed-506fb1ebbccb"
      },
      "outputs": [
        {
          "output_type": "execute_result",
          "data": {
            "text/plain": [
              "array([[0.08817204, 0.33333333, 0.        , 0.33333333, 0.        ],\n",
              "       [0.31182796, 0.33333333, 0.5       , 0.33333333, 0.33333333],\n",
              "       [0.61784946, 0.33333333, 0.        , 0.        , 0.33333333],\n",
              "       [0.26308244, 0.33333333, 0.        , 0.33333333, 0.        ],\n",
              "       [0.23655914, 0.66666667, 0.        , 0.33333333, 0.        ],\n",
              "       [0.19139785, 0.33333333, 0.        , 0.        , 0.        ],\n",
              "       [0.35053763, 0.66666667, 0.5       , 0.33333333, 0.66666667],\n",
              "       [0.35053763, 0.66666667, 0.5       , 0.33333333, 0.        ],\n",
              "       [0.36917563, 0.        , 0.        , 0.        , 0.        ],\n",
              "       [0.35053763, 0.33333333, 0.        , 0.        , 0.66666667]])"
            ]
          },
          "metadata": {},
          "execution_count": 67
        }
      ],
      "source": [
        "X_1t3a = x_test3a.reshape(m_test3a, 5)\n",
        "X_1t3a[:10]"
      ]
    },
    {
      "cell_type": "code",
      "execution_count": 68,
      "metadata": {
        "colab": {
          "base_uri": "https://localhost:8080/"
        },
        "id": "iMC8px4Q3abv",
        "outputId": "47f51983-5fe2-4ca7-f11d-9b229d9a06d4"
      },
      "outputs": [
        {
          "output_type": "execute_result",
          "data": {
            "text/plain": [
              "array([[ 1.        ,  1.35187274,  0.07867901, -0.57989658, -0.92902305,\n",
              "         0.31148433],\n",
              "       [ 1.        ,  0.56532627,  0.07867901,  1.41092949,  2.4747925 ,\n",
              "        -0.8492607 ],\n",
              "       [ 1.        ,  0.746837  , -1.29348292, -0.57989658, -0.92902305,\n",
              "         1.47222936],\n",
              "       [ 1.        ,  0.593251  ,  0.07867901, -0.57989658, -0.92902305,\n",
              "        -0.8492607 ],\n",
              "       [ 1.        , -0.7052488 ,  1.45084094, -0.57989658,  0.20558213,\n",
              "         2.6329744 ]])"
            ]
          },
          "metadata": {},
          "execution_count": 68
        }
      ],
      "source": [
        "x_train3a = np.hstack((X_03a, X_13a))\n",
        "x_train3a[:5]"
      ]
    },
    {
      "cell_type": "code",
      "execution_count": 69,
      "metadata": {
        "colab": {
          "base_uri": "https://localhost:8080/"
        },
        "id": "Oysqxsz43d7I",
        "outputId": "935bf1c8-b7bf-433f-e402-4b375eb37c1e"
      },
      "outputs": [
        {
          "output_type": "execute_result",
          "data": {
            "text/plain": [
              "array([[1.        , 0.08817204, 0.33333333, 0.        , 0.33333333,\n",
              "        0.        ],\n",
              "       [1.        , 0.31182796, 0.33333333, 0.5       , 0.33333333,\n",
              "        0.33333333],\n",
              "       [1.        , 0.61784946, 0.33333333, 0.        , 0.        ,\n",
              "        0.33333333],\n",
              "       [1.        , 0.26308244, 0.33333333, 0.        , 0.33333333,\n",
              "        0.        ],\n",
              "       [1.        , 0.23655914, 0.66666667, 0.        , 0.33333333,\n",
              "        0.        ]])"
            ]
          },
          "metadata": {},
          "execution_count": 69
        }
      ],
      "source": [
        "x_test3a = np.hstack((X_0t3a, X_1t3a))\n",
        "x_test3a[:5]"
      ]
    },
    {
      "cell_type": "code",
      "execution_count": 70,
      "metadata": {
        "id": "-Ek0S1nKLb95"
      },
      "outputs": [],
      "source": [
        "def compute_cost(X, y, theta):\n",
        "    predictions = X.dot(theta)\n",
        "    errors = np.subtract(predictions, y)\n",
        "    sqrErrors = np.square(errors)\n",
        "    J = 1 / (2 * m) * np.sum(sqrErrors)\n",
        "    return J"
      ]
    },
    {
      "cell_type": "code",
      "execution_count": 71,
      "metadata": {
        "id": "p4IkCS-F3qui"
      },
      "outputs": [],
      "source": [
        "def gradient_descentS(X, Xtest, y, y_test, theta, alpha, iterations):\n",
        "    m_train = len(y_train3a)\n",
        "    m_test = len(y_test3a)\n",
        "    cost_history_train = np.zeros(iterations)\n",
        "    cost_history_test = np.zeros(iterations)\n",
        "\n",
        "    for i in range(iterations):\n",
        "        predictions = X.dot(theta)\n",
        "        errors = np.subtract(predictions, y)\n",
        "        gradients = (2/m_train) * X.transpose().dot(errors) + lambdaa * theta[:1]\n",
        "        theta -= alpha * gradients\n",
        "\n",
        "        train_loss = (1/m_train) * np.sum(np.square(X.dot(theta) - y)) + (lambdaa / (2 * m_train)) * np.sum(np.square(theta[1:]))\n",
        "        cost_history_train[i] = train_loss\n",
        "\n",
        "        val_loss = (1/m_test) * np.sum(np.square(Xtest.dot(theta) - y_test))\n",
        "        cost_history_test[i] = val_loss\n",
        "\n",
        "    return theta, cost_history_train, cost_history_test\n"
      ]
    },
    {
      "cell_type": "code",
      "execution_count": 72,
      "metadata": {
        "id": "fh1HLul73m5E"
      },
      "outputs": [],
      "source": [
        "theta = np.zeros(6)\n",
        "iterations3a = 1500\n",
        "alpha3a = 0.01\n",
        "lambdaa = 1"
      ]
    },
    {
      "cell_type": "code",
      "execution_count": 73,
      "metadata": {
        "colab": {
          "base_uri": "https://localhost:8080/"
        },
        "id": "ZtaR2T0gIE8c",
        "outputId": "3ce4ee74-3066-4148-ccbd-4c5bd5bddbb6"
      },
      "outputs": [
        {
          "output_type": "stream",
          "name": "stdout",
          "text": [
            "Final value of theta = [ 0.17579967  0.01035033 -0.02891624  0.01819609 -0.01567801 -0.03370917]\n",
            "cost_history = [0.09185615 0.08834101 0.08504948 ... 0.04026857 0.04026857 0.04026857] [0.10283726 0.09911856 0.09564519 ... 0.04795767 0.04795767 0.04795767]\n"
          ]
        }
      ],
      "source": [
        "theta, cost_history_train, cost_history_test = gradient_descentS(x_train3a, x_test3a, y_train3a, y_test3a, theta, alpha3a, iterations3a)\n",
        "print('Final value of theta =', theta)\n",
        "print('cost_history =', cost_history_train, cost_history_test)\n"
      ]
    },
    {
      "cell_type": "code",
      "execution_count": 74,
      "metadata": {
        "colab": {
          "base_uri": "https://localhost:8080/",
          "height": 472
        },
        "id": "IT3pp8FQKG1e",
        "outputId": "03873da7-8033-44ec-e3fe-afa0e82d2077"
      },
      "outputs": [
        {
          "output_type": "display_data",
          "data": {
            "text/plain": [
              "<Figure size 640x480 with 1 Axes>"
            ],
            "image/png": "[encoded data removed]"
          },
          "metadata": {}
        }
      ],
      "source": [
        "plt.plot(cost_history_train, label=\"Training Loss\")\n",
        "plt.plot(cost_history_test, label=\"Validation Loss\")\n",
        "plt.xlabel(\"Iteration\")\n",
        "plt.ylabel(\"Mean Squared Error\")\n",
        "plt.legend()\n",
        "plt.title(\"Training and Validation Loss Over Iterations\")\n",
        "plt.show()"
      ]
    },
    {
      "cell_type": "markdown",
      "metadata": {
        "id": "wHYi_sdaPmYw"
      },
      "source": [
        "Problem 3B"
      ]
    },
    {
      "cell_type": "code",
      "execution_count": 75,
      "metadata": {
        "colab": {
          "base_uri": "https://localhost:8080/"
        },
        "id": "3PxyDKxUPjpY",
        "outputId": "d932887d-2b92-4591-9631-d117c5769b54"
      },
      "outputs": [
        {
          "output_type": "stream",
          "name": "stdout",
          "text": [
            "X =  [[0.4326093  0.4        0.         0.         1.         1.\n",
            "  1.         0.         1.         0.33333333 0.        ]\n",
            " [0.31495405 0.4        0.33333333 1.         1.         0.\n",
            "  0.         0.         1.         0.         1.        ]\n",
            " [0.34210526 0.2        0.         0.         1.         1.\n",
            "  1.         0.         0.         0.66666667 1.        ]\n",
            " [0.31913116 0.4        0.         0.         1.         0.\n",
            "  1.         0.         1.         0.         1.        ]\n",
            " [0.12489557 0.6        0.         0.33333333 1.         0.\n",
            "  0.         0.         0.         1.         0.        ]]\n",
            "y =  [0.5969697  0.52727273 0.40424242 0.36363636 0.10909091]\n",
            "m =  436\n",
            "n =  436\n",
            "X =  [[0.08817204 0.33333333 0.         0.33333333 1.         0.\n",
            "  0.         0.         0.         0.         1.        ]\n",
            " [0.31182796 0.33333333 0.5        0.33333333 1.         1.\n",
            "  0.         0.         1.         0.33333333 0.        ]\n",
            " [0.61784946 0.33333333 0.         0.         1.         0.\n",
            "  0.         0.         0.         0.33333333 1.        ]\n",
            " [0.26308244 0.33333333 0.         0.33333333 1.         1.\n",
            "  1.         0.         0.         0.         1.        ]\n",
            " [0.23655914 0.66666667 0.         0.33333333 1.         0.\n",
            "  0.         0.         1.         0.         0.        ]]\n",
            "y =  [0.24848485 0.53198653 0.32996633 0.26262626 0.24646465]\n",
            "m =  109\n",
            "n =  109\n"
          ]
        },
        {
          "output_type": "execute_result",
          "data": {
            "text/plain": [
              "array([[1.        , 0.08817204, 0.33333333, 0.        , 0.33333333,\n",
              "        1.        , 0.        , 0.        , 0.        , 0.        ,\n",
              "        0.        , 1.        ],\n",
              "       [1.        , 0.31182796, 0.33333333, 0.5       , 0.33333333,\n",
              "        1.        , 1.        , 0.        , 0.        , 1.        ,\n",
              "        0.33333333, 0.        ],\n",
              "       [1.        , 0.61784946, 0.33333333, 0.        , 0.        ,\n",
              "        1.        , 0.        , 0.        , 0.        , 0.        ,\n",
              "        0.33333333, 1.        ],\n",
              "       [1.        , 0.26308244, 0.33333333, 0.        , 0.33333333,\n",
              "        1.        , 1.        , 1.        , 0.        , 0.        ,\n",
              "        0.        , 1.        ],\n",
              "       [1.        , 0.23655914, 0.66666667, 0.        , 0.33333333,\n",
              "        1.        , 0.        , 0.        , 0.        , 1.        ,\n",
              "        0.        , 0.        ]])"
            ]
          },
          "metadata": {},
          "execution_count": 75
        }
      ],
      "source": [
        "from sklearn.preprocessing import MinMaxScaler, StandardScaler\n",
        "scaler = MinMaxScaler()#StandardScaler() #\n",
        "\n",
        "\n",
        "num_vars = ['area', 'bedrooms', 'bathrooms', 'stories', 'mainroad', 'guestroom', 'basement', 'hotwaterheating', 'airconditioning', 'parking','prefarea','price']\n",
        "df_train[num_vars] = scaler.fit_transform(df_train[num_vars])\n",
        "df_train.head()\n",
        "\n",
        "df_test[num_vars] = scaler.fit_transform(df_test[num_vars])\n",
        "df_test.head()\n",
        "\n",
        "X_train3b = df_train[num_vars].values[:, 0:11]  # get input values from first column -- X is a list here\n",
        "y_train3b = df_train[num_vars].values[:, 11]  # get output values from second column -- Y is the list here\n",
        "m_train3b = len(y_train3b)  # Number of training examples\n",
        "n_train3b = len(X_train3b)  # Number of training examples\n",
        "\n",
        "\n",
        "\n",
        "\n",
        "# Display first 5 records and the total number of training examples\n",
        "print('X = ', X_train3b[: 5])\n",
        "print('y = ', y_train3b[: 5])\n",
        "print('m = ', m_train3b)\n",
        "print('n = ', n_train3b)\n",
        "\n",
        "\n",
        "# Separate features and labels\n",
        "X_test3b = df_test[num_vars].values[:, 0:11]  # get input values from first column -- X is a list here\n",
        "y_test3b = df_test[num_vars].values[:, 11]  # get output values from second column -- Y is the list here\n",
        "m_test3b = len(y_test3b)  # Number of training examples\n",
        "n_test3b = len(X_test)  # Number of training examples\n",
        "\n",
        "\n",
        "\n",
        "\n",
        "# Display first 5 records and the total number of training examples\n",
        "print('X = ', X_test3b[: 5])\n",
        "print('y = ', y_test3b[: 5])\n",
        "print('m = ', m_test3b)\n",
        "print('n = ', n_test3b)\n",
        "X_0train3b = np.ones((m_train3b, 1))\n",
        "X_0test3b = np.ones((m_test3b, 1))\n",
        "\n",
        "X_1train3b = X_train3b.reshape(m_train3b, 11)\n",
        "X_1train3b[:10]\n",
        "\n",
        "\n",
        "X_1test3b = X_test3b.reshape(m_test3b, 11)\n",
        "X_1test3b[:10]\n",
        "\n",
        "Xtrain3b = np.hstack((X_0train3b, X_1train3b))\n",
        "Xtrain3b[:5]\n",
        "\n",
        "Xtest3b = np.hstack((X_0test2b, X_1test3b))\n",
        "Xtest3b[:5]\n",
        "\n",
        "\n",
        "\n",
        "\n"
      ]
    },
    {
      "cell_type": "code",
      "execution_count": 76,
      "metadata": {
        "id": "xPQS-j9pP_5h"
      },
      "outputs": [],
      "source": [
        "theta3b = np.zeros(12)\n",
        "\n",
        "iterations3b = 1500\n",
        "alpha3b = 0.01\n",
        "lambdaa = 0.1"
      ]
    },
    {
      "cell_type": "code",
      "execution_count": 77,
      "metadata": {
        "colab": {
          "base_uri": "https://localhost:8080/"
        },
        "id": "wGclbcsyQEYE",
        "outputId": "cfcbf38f-90c7-4653-ee5e-8e216baecc73"
      },
      "outputs": [
        {
          "output_type": "stream",
          "name": "stdout",
          "text": [
            "Final value of theta = [0.03759726 0.11719778 0.05049992 0.14527959 0.10958077 0.06735417\n",
            " 0.04082697 0.02405446 0.03447437 0.08728113 0.0838019  0.0535177 ]\n",
            "cost_history = [0.08789618 0.08094362 0.07467903 ... 0.01022653 0.01022528 0.01022404] [0.09863886 0.09124736 0.08456726 ... 0.01124974 0.0112489  0.01124806]\n"
          ]
        }
      ],
      "source": [
        "theta, cost_history_train, cost_history_test = gradient_descentS(Xtrain3b, Xtest3b, y_train3b, y_test3b, theta3b, alpha3b, iterations3b)\n",
        "print('Final value of theta =', theta)\n",
        "print('cost_history =', cost_history_train, cost_history_test)"
      ]
    },
    {
      "cell_type": "code",
      "execution_count": 78,
      "metadata": {
        "colab": {
          "base_uri": "https://localhost:8080/",
          "height": 472
        },
        "id": "BbHiGJ87QI4V",
        "outputId": "46078ad7-58d9-4b24-d061-f25b0c89cccf"
      },
      "outputs": [
        {
          "output_type": "display_data",
          "data": {
            "text/plain": [
              "<Figure size 640x480 with 1 Axes>"
            ],
            "image/png": "[encoded data removed]"
          },
          "metadata": {}
        }
      ],
      "source": [
        "plt.plot(cost_history_train, label=\"Training Loss\")\n",
        "plt.plot(cost_history_test, label=\"Validation Loss\")\n",
        "plt.xlabel(\"Iteration\")\n",
        "plt.ylabel(\"Mean Squared Error\")\n",
        "plt.legend()\n",
        "plt.title(\"Training and Validation Loss Over Iterations\")\n",
        "plt.show()"
      ]
    }
  ],
  "metadata": {
    "colab": {
      "provenance": [],
      "authorship_tag": "ABX9TyN8aAOXTr5RUu0FHqdiE/WZ",
      "include_colab_link": true
    },
    "kernelspec": {
      "display_name": "Python 3",
      "name": "python3"
    },
    "language_info": {
      "name": "python"
    }
  },
  "nbformat": 4,
  "nbformat_minor": 0
}